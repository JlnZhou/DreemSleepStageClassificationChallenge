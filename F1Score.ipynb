{
 "cells": [
  {
   "cell_type": "code",
   "execution_count": 1,
   "metadata": {},
   "outputs": [],
   "source": [
    "import pandas as pd\n",
    "import numpy as np\n",
    "from tqdm import tqdm"
   ]
  },
  {
   "cell_type": "markdown",
   "metadata": {},
   "source": [
    "$Precision = \\frac{True Positive}{True Positive + False Positive}$\n",
    "\n",
    "$Recall = \\frac{True Positive}{True Positive + FalseNegative}$\n",
    "\n",
    "$F_1 = 2\\frac{Precision*Recall}{Precision + Recall}$"
   ]
  },
  {
   "cell_type": "markdown",
   "metadata": {},
   "source": [
    "On a 5 catégories avec des nombres d'échantillons $n_1, n_2, \\dots, n_5$ et avec $\\sum_{i=1}^{5}n_i=n$.\n",
    "\n",
    "Les scores vont de 0 à 1. Pour avoir une idée de si on a un bon score, regardons ce qu'on obtient lorsque les classes sont attribuées au hasard aux échantillons avec une probabilité de $p_1 \\dots p_5$ (On lance un dé 5 avec les proba associées)."
   ]
  },
  {
   "cell_type": "markdown",
   "metadata": {},
   "source": [
    "$Precision_i = \\frac{TruePositive_i}{TruePositive_i+FalsePositive_i}$\n",
    "\n",
    "$Precision_i = \\frac{n_i*p_i}{n_i*p_i+n*p_i-n_i*p_i}$\n",
    "\n",
    "$Precision_i = \\frac{n_i}{n}$\n",
    "\n",
    "$Precision_i = p_i$"
   ]
  },
  {
   "cell_type": "markdown",
   "metadata": {},
   "source": [
    "$Recall_i = \\frac{True Positive_i}{True Positive_i + FalseNegative_i}$\n",
    "\n",
    "$Recall_i = \\frac{n_i*p_i}{n_i*p_i + (1-p_i)*n_i}$\n",
    "\n",
    "$Recall_i = \\frac{n_i*p_i}{n_i}$\n",
    "\n",
    "$Recall_i = p_i$"
   ]
  },
  {
   "cell_type": "markdown",
   "metadata": {},
   "source": [
    "$F_{1,i} = 2\\frac{p_i*p_i}{2*p_i}$\n",
    "\n",
    "$F_{1,i} = p_i$"
   ]
  },
  {
   "cell_type": "markdown",
   "metadata": {},
   "source": [
    "$F_{1,mean} = \\frac{1}{5}\\sum_{i=1}^{5}p_i$\n",
    "\n",
    "$F_{1,mean} = \\frac{1}{5}\\sum_{i=1}^{5}\\frac{n_i}{n}$\n",
    "\n",
    "$F_{1,mean} = \\frac{1}{5*n}\\sum_{i=1}^{5}n_i$\n",
    "\n",
    "$F_{1,mean} = \\frac{n}{5*n}$\n",
    "\n",
    "$F_{1,mean} = \\frac{1}{5} = 0.2$"
   ]
  },
  {
   "cell_type": "code",
   "execution_count": null,
   "metadata": {},
   "outputs": [],
   "source": []
  }
 ],
 "metadata": {
  "kernelspec": {
   "display_name": "Python 3",
   "language": "python",
   "name": "python3"
  },
  "language_info": {
   "codemirror_mode": {
    "name": "ipython",
    "version": 3
   },
   "file_extension": ".py",
   "mimetype": "text/x-python",
   "name": "python",
   "nbconvert_exporter": "python",
   "pygments_lexer": "ipython3",
   "version": "3.7.4"
  }
 },
 "nbformat": 4,
 "nbformat_minor": 4
}
