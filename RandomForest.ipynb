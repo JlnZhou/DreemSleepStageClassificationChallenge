{
 "cells": [
  {
   "cell_type": "code",
   "execution_count": 1,
   "metadata": {},
   "outputs": [],
   "source": [
    "import pandas as pd\n",
    "import numpy as np\n",
    "import matplotlib.pyplot as plt\n",
    "from tqdm import tqdm"
   ]
  },
  {
   "cell_type": "code",
   "execution_count": 2,
   "metadata": {},
   "outputs": [],
   "source": [
    "train_x = pd.read_csv(\"../DreemSleepStageClassificationChallengeData/dreem-sleep-stages/train_x.csv\",\n",
    "                     index_col = \"id\")\n",
    "train_y = pd.read_csv(\"../DreemSleepStageClassificationChallengeData/dreem-sleep-stages/train_y.csv\",\n",
    "                     index_col = \"id\")"
   ]
  },
  {
   "cell_type": "code",
   "execution_count": 3,
   "metadata": {},
   "outputs": [],
   "source": [
    "from sklearn.model_selection import cross_val_score\n",
    "from sklearn.ensemble import RandomForestClassifier\n",
    "from sklearn.metrics import make_scorer\n",
    "from sklearn.metrics import f1_score"
   ]
  },
  {
   "cell_type": "markdown",
   "metadata": {},
   "source": [
    "- n_estimators (default, 100)\n",
    "- max_depth\n",
    "- max_feature (auto, sqrt)\n",
    "- class_weight = \"balanced subsample\"\n",
    "- max_sample (None, X.shape[0])"
   ]
  },
  {
   "cell_type": "code",
   "execution_count": 10,
   "metadata": {},
   "outputs": [
    {
     "data": {
      "text/plain": [
       "RandomForestClassifier(bootstrap=True, class_weight='balanced_subsample',\n",
       "                       criterion='gini', max_depth=None, max_features='auto',\n",
       "                       max_leaf_nodes=None, min_impurity_decrease=0.0,\n",
       "                       min_impurity_split=None, min_samples_leaf=1,\n",
       "                       min_samples_split=2, min_weight_fraction_leaf=0.0,\n",
       "                       n_estimators=100, n_jobs=None, oob_score=True,\n",
       "                       random_state=None, verbose=0, warm_start=False)"
      ]
     },
     "execution_count": 10,
     "metadata": {},
     "output_type": "execute_result"
    }
   ],
   "source": [
    "random_forest = RandomForestClassifier(n_estimators = 100,\n",
    "                                       class_weight = \"balanced_subsample\",\n",
    "                                      oob_score = True)\n",
    "random_forest.fit(train_x, np.ravel(train_y))"
   ]
  },
  {
   "cell_type": "code",
   "execution_count": 20,
   "metadata": {},
   "outputs": [
    {
     "data": {
      "text/plain": [
       "63"
      ]
     },
     "execution_count": 20,
     "metadata": {},
     "output_type": "execute_result"
    }
   ],
   "source": [
    "np.max([x.get_depth() for x in random_forest.estimators_])"
   ]
  },
  {
   "cell_type": "code",
   "execution_count": 18,
   "metadata": {},
   "outputs": [
    {
     "data": {
      "text/plain": [
       "(array([ 4., 13., 20., 19., 12., 12., 10.,  5.,  3.,  2.]),\n",
       " array([35. , 37.8, 40.6, 43.4, 46.2, 49. , 51.8, 54.6, 57.4, 60.2, 63. ]),\n",
       " <a list of 10 Patch objects>)"
      ]
     },
     "execution_count": 18,
     "metadata": {},
     "output_type": "execute_result"
    },
    {
     "data": {
      "image/png": "[encoded data removed]",
      "text/plain": [
       "<Figure size 432x288 with 1 Axes>"
      ]
     },
     "metadata": {
      "needs_background": "light"
     },
     "output_type": "display_data"
    }
   ],
   "source": [
    "plt.hist([x.get_depth() for x in random_forest.estimators_])"
   ]
  },
  {
   "cell_type": "code",
   "execution_count": 31,
   "metadata": {},
   "outputs": [
    {
     "name": "stderr",
     "output_type": "stream",
     "text": [
      "\n",
      "  0%|          | 0/14 [00:00<?, ?it/s]\n",
      "  7%|▋         | 1/14 [01:29<19:22, 89.41s/it]\n",
      " 14%|█▍        | 2/14 [04:05<21:54, 109.53s/it]\n",
      " 21%|██▏       | 3/14 [07:31<25:22, 138.39s/it]\n",
      " 29%|██▊       | 4/14 [11:24<27:48, 166.83s/it]\n",
      " 36%|███▌      | 5/14 [15:25<28:19, 188.88s/it]\n",
      " 43%|████▎     | 6/14 [19:29<27:25, 205.67s/it]\n",
      " 50%|█████     | 7/14 [23:37<25:27, 218.25s/it]\n",
      " 57%|█████▋    | 8/14 [27:45<22:43, 227.23s/it]\n",
      " 64%|██████▍   | 9/14 [31:55<19:30, 234.11s/it]\n",
      " 71%|███████▏  | 10/14 [36:05<15:54, 238.66s/it]\n",
      " 79%|███████▊  | 11/14 [40:14<12:05, 241.81s/it]\n",
      " 86%|████████▌ | 12/14 [44:23<08:08, 244.06s/it]\n",
      " 93%|█████████▎| 13/14 [48:32<04:05, 245.37s/it]\n",
      "100%|██████████| 14/14 [52:40<00:00, 225.72s/it]\n"
     ]
    }
   ],
   "source": [
    "tree_depths = np.arange(5, 71, 5)\n",
    "cv_scores = []\n",
    "for depth in tqdm(tree_depths):\n",
    "    rf_class = RandomForestClassifier(n_estimators = 100,\n",
    "                                      max_depth = depth,\n",
    "                                      class_weight = \"balanced_subsample\")\n",
    "    cv_scores.append(cross_val_score(rf_class,\n",
    "                                    train_x, np.ravel(train_y),\n",
    "                                    scoring = make_scorer(f1_score, average = \"macro\"),\n",
    "                                    cv = 5))"
   ]
  },
  {
   "cell_type": "code",
   "execution_count": 33,
   "metadata": {},
   "outputs": [
    {
     "data": {
      "text/plain": [
       "[<matplotlib.lines.Line2D at 0x1eaba5d9a48>]"
      ]
     },
     "execution_count": 33,
     "metadata": {},
     "output_type": "execute_result"
    },
    {
     "data": {
      "image/png": "[encoded data removed]",
      "text/plain": [
       "<Figure size 432x288 with 1 Axes>"
      ]
     },
     "metadata": {
      "needs_background": "light"
     },
     "output_type": "display_data"
    }
   ],
   "source": [
    "plt.plot(tree_depths, [np.mean(x) for x in cv_scores])"
   ]
  },
  {
   "cell_type": "code",
   "execution_count": 5,
   "metadata": {},
   "outputs": [],
   "source": [
    "depth_cv = 15"
   ]
  },
  {
   "cell_type": "code",
   "execution_count": 18,
   "metadata": {},
   "outputs": [
    {
     "name": "stderr",
     "output_type": "stream",
     "text": [
      "100%|██████████| 9/9 [18:38<00:00, 124.24s/it]\n"
     ]
    }
   ],
   "source": [
    "max_samples_cv = np.arange(0.1, 1., 0.1)\n",
    "cv_scores = []\n",
    "for num in tqdm(max_samples_cv):\n",
    "    rf_class = RandomForestClassifier(n_estimators = 100,\n",
    "                                      max_depth = depth_cv,\n",
    "                                      class_weight = \"balanced_subsample\",\n",
    "                                      max_samples = num)\n",
    "    cv_scores.append(cross_val_score(rf_class,\n",
    "                                    train_x, np.ravel(train_y),\n",
    "                                    scoring = make_scorer(f1_score, average = \"macro\"),\n",
    "                                    cv = 5))"
   ]
  },
  {
   "cell_type": "code",
   "execution_count": 19,
   "metadata": {},
   "outputs": [],
   "source": [
    "max_samples_cv = np.arange(0.1, 1.1, 0.1)\n",
    "rf_class = RandomForestClassifier(n_estimators = 100,\n",
    "                                      max_depth = depth_cv,\n",
    "                                      class_weight = \"balanced_subsample\")\n",
    "cv_scores.append(cross_val_score(rf_class,\n",
    "                                    train_x, np.ravel(train_y),\n",
    "                                    scoring = make_scorer(f1_score, average = \"macro\"),\n",
    "                                    cv = 5))"
   ]
  },
  {
   "cell_type": "code",
   "execution_count": 20,
   "metadata": {},
   "outputs": [
    {
     "data": {
      "text/plain": [
       "[<matplotlib.lines.Line2D at 0x247850d9788>]"
      ]
     },
     "execution_count": 20,
     "metadata": {},
     "output_type": "execute_result"
    },
    {
     "data": {
      "image/png": "[encoded data removed]",
      "text/plain": [
       "<Figure size 432x288 with 1 Axes>"
      ]
     },
     "metadata": {
      "needs_background": "light"
     },
     "output_type": "display_data"
    }
   ],
   "source": [
    "plt.plot(max_samples_cv, [np.mean(x) for x in cv_scores])"
   ]
  },
  {
   "cell_type": "code",
   "execution_count": 23,
   "metadata": {},
   "outputs": [
    {
     "data": {
      "text/plain": [
       "[array([0.56420064, 0.55591605, 0.56851262, 0.55622464, 0.56014651]),\n",
       " array([0.59530552, 0.58927034, 0.59550818, 0.593063  , 0.59621728]),\n",
       " array([0.62123537, 0.60682424, 0.61540697, 0.61505339, 0.61486286]),\n",
       " array([0.63558569, 0.61550783, 0.62325318, 0.62612706, 0.62401013]),\n",
       " array([0.64067947, 0.62505276, 0.626295  , 0.62926003, 0.62848059]),\n",
       " array([0.64714165, 0.63124616, 0.63046195, 0.63435317, 0.63747361]),\n",
       " array([0.64461165, 0.63609029, 0.6330193 , 0.64391146, 0.63621298]),\n",
       " array([0.64476636, 0.64467269, 0.63547158, 0.64663434, 0.64373911]),\n",
       " array([0.65525492, 0.64361463, 0.64294625, 0.65447534, 0.64173519]),\n",
       " array([0.65213923, 0.64661235, 0.64354675, 0.65592333, 0.65062547])]"
      ]
     },
     "execution_count": 23,
     "metadata": {},
     "output_type": "execute_result"
    }
   ],
   "source": [
    "cv_scores"
   ]
  },
  {
   "cell_type": "code",
   "execution_count": 27,
   "metadata": {},
   "outputs": [
    {
     "name": "stderr",
     "output_type": "stream",
     "text": [
      "100%|██████████| 10/10 [5:43:05<00:00, 2058.53s/it] \n"
     ]
    }
   ],
   "source": [
    "max_features_cv = np.arange(0.1, 1., 0.1)\n",
    "cv_scores = []\n",
    "for num in tqdm(max_features_cv):\n",
    "    rf_class = RandomForestClassifier(n_estimators = 100,\n",
    "                                      max_depth = depth_cv,\n",
    "                                      class_weight = \"balanced_subsample\",\n",
    "                                     max_features = num)\n",
    "    cv_scores.append(cross_val_score(rf_class,\n",
    "                                    train_x, np.ravel(train_y),\n",
    "                                    scoring = make_scorer(f1_score, average = \"macro\"),\n",
    "                                    cv = 5))"
   ]
  },
  {
   "cell_type": "code",
   "execution_count": 36,
   "metadata": {},
   "outputs": [
    {
     "data": {
      "text/plain": [
       "[<matplotlib.lines.Line2D at 0x2478537a5c8>]"
      ]
     },
     "execution_count": 36,
     "metadata": {},
     "output_type": "execute_result"
    },
    {
     "data": {
      "image/png": "[encoded data removed]",
      "text/plain": [
       "<Figure size 432x288 with 1 Axes>"
      ]
     },
     "metadata": {
      "needs_background": "light"
     },
     "output_type": "display_data"
    }
   ],
   "source": [
    "plt.plot(np.round(max_samples_cv*320), [np.mean(x) for x in cv_scores])"
   ]
  },
  {
   "cell_type": "code",
   "execution_count": 40,
   "metadata": {},
   "outputs": [
    {
     "name": "stderr",
     "output_type": "stream",
     "text": [
      "\n",
      "  0%|          | 0/15 [00:00<?, ?it/s]\n",
      "  7%|▋         | 1/15 [02:04<29:05, 124.64s/it]\n",
      " 13%|█▎        | 2/15 [06:11<34:55, 161.22s/it]\n",
      " 20%|██        | 3/15 [12:17<44:33, 222.79s/it]\n",
      " 27%|██▋       | 4/15 [20:27<55:32, 302.94s/it]\n",
      " 33%|███▎      | 5/15 [30:12<1:04:36, 387.65s/it]\n",
      " 40%|████      | 6/15 [42:17<1:13:19, 488.83s/it]\n",
      " 47%|████▋     | 7/15 [56:40<1:20:08, 601.04s/it]\n",
      " 53%|█████▎    | 8/15 [1:13:26<1:24:16, 722.41s/it]\n",
      " 60%|██████    | 9/15 [1:31:25<1:22:56, 829.34s/it]\n",
      " 67%|██████▋   | 10/15 [1:51:35<1:18:38, 943.73s/it]\n",
      " 73%|███████▎  | 11/15 [2:13:07<1:09:52, 1048.13s/it]\n",
      " 80%|████████  | 12/15 [2:39:14<1:00:11, 1203.83s/it]\n",
      " 87%|████████▋ | 13/15 [3:13:10<48:26, 1453.30s/it]  \n",
      " 93%|█████████▎| 14/15 [3:48:45<27:37, 1657.93s/it]\n",
      "100%|██████████| 15/15 [4:29:20<00:00, 1077.38s/it]\n"
     ]
    }
   ],
   "source": [
    "max_features_cv = np.arange(10, 151, 10)\n",
    "cv_scores = []\n",
    "for num in tqdm(max_features_cv):\n",
    "    rf_class = RandomForestClassifier(n_estimators = 100,\n",
    "                                      max_depth = depth_cv,\n",
    "                                      class_weight = \"balanced_subsample\",\n",
    "                                     max_features = num)\n",
    "    cv_scores.append(cross_val_score(rf_class,\n",
    "                                    train_x, np.ravel(train_y),\n",
    "                                    scoring = make_scorer(f1_score, average = \"macro\"),\n",
    "                                    cv = 5))"
   ]
  },
  {
   "cell_type": "code",
   "execution_count": 42,
   "metadata": {},
   "outputs": [
    {
     "data": {
      "text/plain": [
       "[<matplotlib.lines.Line2D at 0x2479933ef88>]"
      ]
     },
     "execution_count": 42,
     "metadata": {},
     "output_type": "execute_result"
    },
    {
     "data": {
      "image/png": "[encoded data removed]",
      "text/plain": [
       "<Figure size 432x288 with 1 Axes>"
      ]
     },
     "metadata": {
      "needs_background": "light"
     },
     "output_type": "display_data"
    }
   ],
   "source": [
    "plt.plot(max_features_cv, [np.mean(x) for x in cv_scores])"
   ]
  },
  {
   "cell_type": "code",
   "execution_count": 43,
   "metadata": {},
   "outputs": [
    {
     "data": {
      "text/plain": [
       "[0.64402714131826,\n",
       " 0.6489330623291811,\n",
       " 0.6497127364318342,\n",
       " 0.6526639311304667,\n",
       " 0.6516813415856529,\n",
       " 0.6530426726208121,\n",
       " 0.6494720542125568,\n",
       " 0.6545115925472876,\n",
       " 0.6552390478727989,\n",
       " 0.6521811232524474,\n",
       " 0.6479279163781964,\n",
       " 0.6488362638999083,\n",
       " 0.6506296417902048,\n",
       " 0.6487081553882759,\n",
       " 0.6520200911198109]"
      ]
     },
     "execution_count": 43,
     "metadata": {},
     "output_type": "execute_result"
    }
   ],
   "source": [
    "[np.mean(x) for x in cv_scores]"
   ]
  },
  {
   "cell_type": "code",
   "execution_count": 45,
   "metadata": {},
   "outputs": [
    {
     "name": "stderr",
     "output_type": "stream",
     "text": [
      "\n",
      "  0%|          | 0/9 [00:00<?, ?it/s]\n",
      " 11%|█         | 1/9 [02:15<18:00, 135.08s/it]\n",
      " 22%|██▏       | 2/9 [06:49<20:38, 176.95s/it]\n",
      " 33%|███▎      | 3/9 [13:55<25:08, 251.45s/it]\n",
      " 44%|████▍     | 4/9 [25:39<32:16, 387.30s/it]\n",
      " 56%|█████▌    | 5/9 [39:37<34:49, 522.48s/it]\n",
      " 67%|██████▋   | 6/9 [52:02<29:27, 589.30s/it]\n",
      " 78%|███████▊  | 7/9 [1:05:57<22:06, 663.08s/it]\n",
      " 89%|████████▉ | 8/9 [1:21:15<12:19, 739.64s/it]\n",
      "100%|██████████| 9/9 [1:38:00<00:00, 653.44s/it]\n"
     ]
    }
   ],
   "source": [
    "max_features_cv = 90\n",
    "max_samples_cv = np.arange(0.1, 1., 0.1)\n",
    "cv_scores = []\n",
    "for num in tqdm(max_samples_cv):\n",
    "    rf_class = RandomForestClassifier(n_estimators = 100,\n",
    "                                      max_depth = depth_cv,\n",
    "                                      class_weight = \"balanced_subsample\",\n",
    "                                      max_features = max_features_cv,\n",
    "                                      max_samples = num)\n",
    "    cv_scores.append(cross_val_score(rf_class,\n",
    "                                    train_x, np.ravel(train_y),\n",
    "                                    scoring = make_scorer(f1_score, average = \"macro\"),\n",
    "                                    cv = 5))"
   ]
  },
  {
   "cell_type": "code",
   "execution_count": 47,
   "metadata": {},
   "outputs": [
    {
     "data": {
      "text/plain": [
       "[<matplotlib.lines.Line2D at 0x247993abe08>]"
      ]
     },
     "execution_count": 47,
     "metadata": {},
     "output_type": "execute_result"
    },
    {
     "data": {
      "image/png": "[encoded data removed]",
      "text/plain": [
       "<Figure size 432x288 with 1 Axes>"
      ]
     },
     "metadata": {
      "needs_background": "light"
     },
     "output_type": "display_data"
    }
   ],
   "source": [
    "plt.plot(np.round(max_samples_cv*320), [np.mean(x) for x in cv_scores])"
   ]
  },
  {
   "cell_type": "code",
   "execution_count": 48,
   "metadata": {},
   "outputs": [
    {
     "name": "stderr",
     "output_type": "stream",
     "text": [
      "\n",
      "  0%|          | 0/14 [00:00<?, ?it/s]\n",
      "  7%|▋         | 1/14 [07:41<1:40:05, 461.98s/it]\n",
      " 14%|█▍        | 2/14 [26:23<2:11:58, 659.91s/it]\n",
      " 21%|██▏       | 3/14 [44:05<2:23:04, 780.39s/it]\n",
      " 29%|██▊       | 4/14 [1:04:01<2:30:52, 905.29s/it]\n",
      " 36%|███▌      | 5/14 [1:25:17<2:32:26, 1016.32s/it]\n",
      " 43%|████▎     | 6/14 [1:47:26<2:28:00, 1110.03s/it]\n",
      " 50%|█████     | 7/14 [2:10:49<2:19:45, 1197.99s/it]\n",
      " 57%|█████▋    | 8/14 [2:36:10<2:09:29, 1294.96s/it]\n",
      " 64%|██████▍   | 9/14 [3:09:23<2:05:22, 1504.41s/it]\n",
      " 71%|███████▏  | 10/14 [3:33:54<1:39:37, 1494.37s/it]\n",
      " 79%|███████▊  | 11/14 [3:57:50<1:13:50, 1476.91s/it]\n",
      " 86%|████████▌ | 12/14 [4:22:03<48:59, 1469.66s/it]  \n",
      " 93%|█████████▎| 13/14 [4:46:12<24:23, 1463.51s/it]\n",
      "100%|██████████| 14/14 [5:10:37<00:00, 1331.22s/it]\n"
     ]
    }
   ],
   "source": [
    "tree_depths = np.arange(5, 71, 5)\n",
    "cv_scores = []\n",
    "for depth in tqdm(tree_depths):\n",
    "    rf_class = RandomForestClassifier(n_estimators = 100,\n",
    "                                      max_depth = depth,\n",
    "                                      class_weight = \"balanced_subsample\",\n",
    "                                      max_features = max_features_cv)\n",
    "    cv_scores.append(cross_val_score(rf_class,\n",
    "                                    train_x, np.ravel(train_y),\n",
    "                                    scoring = make_scorer(f1_score, average = \"macro\"),\n",
    "                                    cv = 5))"
   ]
  },
  {
   "cell_type": "code",
   "execution_count": 50,
   "metadata": {},
   "outputs": [
    {
     "data": {
      "text/plain": [
       "[<matplotlib.lines.Line2D at 0x2479941f088>]"
      ]
     },
     "execution_count": 50,
     "metadata": {},
     "output_type": "execute_result"
    },
    {
     "data": {
      "image/png": "[encoded data removed]",
      "text/plain": [
       "<Figure size 432x288 with 1 Axes>"
      ]
     },
     "metadata": {
      "needs_background": "light"
     },
     "output_type": "display_data"
    }
   ],
   "source": [
    "plt.plot(tree_depths, [np.mean(x) for x in cv_scores])"
   ]
  },
  {
   "cell_type": "code",
   "execution_count": 51,
   "metadata": {},
   "outputs": [],
   "source": [
    "rf_cv = RandomForestClassifier(n_estimators = 100,\n",
    "                                      max_depth = depth_cv,\n",
    "                                      class_weight = \"balanced_subsample\",\n",
    "                                      max_features = max_features_cv)"
   ]
  },
  {
   "cell_type": "code",
   "execution_count": 52,
   "metadata": {},
   "outputs": [
    {
     "data": {
      "text/plain": [
       "RandomForestClassifier(class_weight='balanced_subsample', max_depth=15,\n",
       "                       max_features=90)"
      ]
     },
     "execution_count": 52,
     "metadata": {},
     "output_type": "execute_result"
    }
   ],
   "source": [
    "rf_cv.fit(train_x, np.ravel(train_y))"
   ]
  },
  {
   "cell_type": "code",
   "execution_count": 53,
   "metadata": {},
   "outputs": [
    {
     "name": "stdout",
     "output_type": "stream",
     "text": [
      "Accuracy: 0.9510303220246024\n",
      "Precision: 0.9408766585191103\n",
      "Recall: 0.9693091920185279\n",
      "F1: 0.9541618852120288\n"
     ]
    }
   ],
   "source": [
    "from sklearn.metrics import accuracy_score, precision_score, recall_score\n",
    "train_pred_y = rf_cv.predict(train_x)\n",
    "print(\"Accuracy: \" + str(accuracy_score(train_y, train_pred_y)))\n",
    "print(\"Precision: \" + str(precision_score(train_y, train_pred_y, average = \"macro\")))\n",
    "print(\"Recall: \" + str(recall_score(train_y, train_pred_y, average = \"macro\")))\n",
    "print(\"F1: \" + str(f1_score(train_y, train_pred_y, average = \"macro\")))"
   ]
  },
  {
   "cell_type": "code",
   "execution_count": 54,
   "metadata": {},
   "outputs": [
    {
     "name": "stdout",
     "output_type": "stream",
     "text": [
      "[[9.93368334e-01 2.21729490e-03 8.17184217e-04 6.97958471e-04\n",
      "  2.86971494e-04]\n",
      " [0.00000000e+00 9.96304508e-01 1.75110904e-04 1.74489618e-04\n",
      "  9.56571647e-05]\n",
      " [2.04476375e-02 4.06504065e-02 9.31706748e-01 1.22666201e-01\n",
      "  3.23321217e-02]\n",
      " [1.10527770e-03 2.21729490e-03 6.77095494e-03 9.77490839e-01\n",
      "  5.73942988e-04]\n",
      " [5.80270793e-03 4.43458980e-02 2.42236750e-02 8.89897051e-03\n",
      "  9.47675531e-01]]\n",
      "[[ 3595     3    14     4     3]\n",
      " [    0  1348     3     1     1]\n",
      " [   74    55 15962   703   338]\n",
      " [    4     3   116  5602     6]\n",
      " [   21    60   415    51  9907]]\n"
     ]
    }
   ],
   "source": [
    "from sklearn.metrics import confusion_matrix\n",
    "print(confusion_matrix(train_y, train_pred_y)/np.sum(confusion_matrix(train_y, train_pred_y), axis = 1))\n",
    "print(confusion_matrix(train_y, train_pred_y))"
   ]
  },
  {
   "cell_type": "code",
   "execution_count": 55,
   "metadata": {},
   "outputs": [
    {
     "data": {
      "text/plain": [
       "<matplotlib.colorbar.Colorbar at 0x2479950c588>"
      ]
     },
     "execution_count": 55,
     "metadata": {},
     "output_type": "execute_result"
    },
    {
     "data": {
      "image/png": "[encoded data removed]",
      "text/plain": [
       "<Figure size 432x288 with 2 Axes>"
      ]
     },
     "metadata": {
      "needs_background": "light"
     },
     "output_type": "display_data"
    }
   ],
   "source": [
    "plt.imshow(confusion_matrix(train_y, train_pred_y)/np.sum(confusion_matrix(train_y, train_pred_y), axis = 1), cmap = \"plasma\")\n",
    "plt.colorbar()"
   ]
  },
  {
   "cell_type": "markdown",
   "metadata": {},
   "source": [
    "# Prediction"
   ]
  },
  {
   "cell_type": "code",
   "execution_count": 56,
   "metadata": {},
   "outputs": [],
   "source": [
    "test_x = pd.read_csv(\"../DreemSleepStageClassificationChallengeData/dreem-sleep-stages/test_x.csv\",\n",
    "                     index_col = \"id\")"
   ]
  },
  {
   "cell_type": "code",
   "execution_count": 58,
   "metadata": {},
   "outputs": [],
   "source": [
    "test_pred_y = rf_cv.predict(test_x)"
   ]
  },
  {
   "cell_type": "code",
   "execution_count": 59,
   "metadata": {},
   "outputs": [
    {
     "data": {
      "text/html": [
       "<div>\n",
       "<style scoped>\n",
       "    .dataframe tbody tr th:only-of-type {\n",
       "        vertical-align: middle;\n",
       "    }\n",
       "\n",
       "    .dataframe tbody tr th {\n",
       "        vertical-align: top;\n",
       "    }\n",
       "\n",
       "    .dataframe thead th {\n",
       "        text-align: right;\n",
       "    }\n",
       "</style>\n",
       "<table border=\"1\" class=\"dataframe\">\n",
       "  <thead>\n",
       "    <tr style=\"text-align: right;\">\n",
       "      <th></th>\n",
       "      <th>sleep_stage</th>\n",
       "    </tr>\n",
       "    <tr>\n",
       "      <th>id</th>\n",
       "      <th></th>\n",
       "    </tr>\n",
       "  </thead>\n",
       "  <tbody>\n",
       "    <tr>\n",
       "      <td>0</td>\n",
       "      <td>4</td>\n",
       "    </tr>\n",
       "    <tr>\n",
       "      <td>1</td>\n",
       "      <td>0</td>\n",
       "    </tr>\n",
       "    <tr>\n",
       "      <td>2</td>\n",
       "      <td>2</td>\n",
       "    </tr>\n",
       "    <tr>\n",
       "      <td>3</td>\n",
       "      <td>4</td>\n",
       "    </tr>\n",
       "    <tr>\n",
       "      <td>4</td>\n",
       "      <td>4</td>\n",
       "    </tr>\n",
       "    <tr>\n",
       "      <td>...</td>\n",
       "      <td>...</td>\n",
       "    </tr>\n",
       "    <tr>\n",
       "      <td>37434</td>\n",
       "      <td>2</td>\n",
       "    </tr>\n",
       "    <tr>\n",
       "      <td>37435</td>\n",
       "      <td>0</td>\n",
       "    </tr>\n",
       "    <tr>\n",
       "      <td>37436</td>\n",
       "      <td>4</td>\n",
       "    </tr>\n",
       "    <tr>\n",
       "      <td>37437</td>\n",
       "      <td>2</td>\n",
       "    </tr>\n",
       "    <tr>\n",
       "      <td>37438</td>\n",
       "      <td>3</td>\n",
       "    </tr>\n",
       "  </tbody>\n",
       "</table>\n",
       "<p>37439 rows × 1 columns</p>\n",
       "</div>"
      ],
      "text/plain": [
       "       sleep_stage\n",
       "id                \n",
       "0                4\n",
       "1                0\n",
       "2                2\n",
       "3                4\n",
       "4                4\n",
       "...            ...\n",
       "37434            2\n",
       "37435            0\n",
       "37436            4\n",
       "37437            2\n",
       "37438            3\n",
       "\n",
       "[37439 rows x 1 columns]"
      ]
     },
     "execution_count": 59,
     "metadata": {},
     "output_type": "execute_result"
    }
   ],
   "source": [
    "test_pred_y = pd.DataFrame({\"sleep_stage\": test_pred_y})\n",
    "test_pred_y.index.name = \"id\"\n",
    "test_pred_y"
   ]
  },
  {
   "cell_type": "code",
   "execution_count": 60,
   "metadata": {},
   "outputs": [],
   "source": [
    "test_pred_y.to_csv(\"../DreemSleepStageClassificationChallengeData/dreem-sleep-stages/test_pred_y_rf.csv\")"
   ]
  },
  {
   "cell_type": "code",
   "execution_count": null,
   "metadata": {},
   "outputs": [],
   "source": []
  }
 ],
 "metadata": {
  "kernelspec": {
   "display_name": "Python 3",
   "language": "python",
   "name": "python3"
  },
  "language_info": {
   "codemirror_mode": {
    "name": "ipython",
    "version": 3
   },
   "file_extension": ".py",
   "mimetype": "text/x-python",
   "name": "python",
   "nbconvert_exporter": "python",
   "pygments_lexer": "ipython3",
   "version": "3.7.4"
  }
 },
 "nbformat": 4,
 "nbformat_minor": 4
}
