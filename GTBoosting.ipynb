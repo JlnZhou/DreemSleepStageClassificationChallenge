{
 "cells": [
  {
   "cell_type": "code",
   "execution_count": 1,
   "metadata": {},
   "outputs": [],
   "source": [
    "import pandas as pd\n",
    "import numpy as np\n",
    "import matplotlib.pyplot as plt\n",
    "from tqdm import tqdm"
   ]
  },
  {
   "cell_type": "code",
   "execution_count": 2,
   "metadata": {},
   "outputs": [],
   "source": [
    "train_x = pd.read_csv(\"../DreemSleepStageClassificationChallengeData/dreem-sleep-stages/train_x.csv\",\n",
    "                     index_col = \"id\")\n",
    "train_y = pd.read_csv(\"../DreemSleepStageClassificationChallengeData/dreem-sleep-stages/train_y.csv\",\n",
    "                     index_col = \"id\")"
   ]
  },
  {
   "cell_type": "code",
   "execution_count": 3,
   "metadata": {},
   "outputs": [],
   "source": [
    "from sklearn.model_selection import cross_val_score\n",
    "from sklearn.tree import DecisionTreeClassifier\n",
    "from sklearn.ensemble import GradientBoostingClassifier\n",
    "from sklearn.metrics import make_scorer\n",
    "from sklearn.metrics import f1_score"
   ]
  },
  {
   "cell_type": "markdown",
   "metadata": {},
   "source": [
    "- Learning rate\n",
    "- n_estimator\n",
    "- subsample\n",
    "- max_depth\n",
    "- max_features"
   ]
  },
  {
   "cell_type": "code",
   "execution_count": 5,
   "metadata": {},
   "outputs": [
    {
     "data": {
      "text/plain": [
       "GradientBoostingClassifier()"
      ]
     },
     "execution_count": 5,
     "metadata": {},
     "output_type": "execute_result"
    }
   ],
   "source": [
    "gtboost = GradientBoostingClassifier()\n",
    "gtboost.fit(train_x, np.ravel(train_y))"
   ]
  },
  {
   "cell_type": "code",
   "execution_count": 6,
   "metadata": {},
   "outputs": [
    {
     "data": {
      "text/plain": [
       "0.7385933296769307"
      ]
     },
     "execution_count": 6,
     "metadata": {},
     "output_type": "execute_result"
    }
   ],
   "source": [
    "gtboost.score(train_x, np.ravel(train_y))"
   ]
  },
  {
   "cell_type": "code",
   "execution_count": 8,
   "metadata": {},
   "outputs": [
    {
     "name": "stderr",
     "output_type": "stream",
     "text": [
      " 67%|██████▋   | 6/9 [11:11:59<5:36:18, 6726.08s/it]C:\\Users\\zhouj\\Anaconda3\\lib\\site-packages\\sklearn\\model_selection\\_validation.py:614: FitFailedWarning: Estimator fit failed. The score on this train-test partition for these parameters will be set to nan. Details: \n",
      "Traceback (most recent call last):\n",
      "  File \"C:\\Users\\zhouj\\Anaconda3\\lib\\site-packages\\sklearn\\model_selection\\_validation.py\", line 593, in _fit_and_score\n",
      "    estimator.fit(X_train, y_train, **fit_params)\n",
      "  File \"C:\\Users\\zhouj\\Anaconda3\\lib\\site-packages\\sklearn\\ensemble\\_gb.py\", line 506, in fit\n",
      "    sample_weight_val, begin_at_stage, monitor)\n",
      "  File \"C:\\Users\\zhouj\\Anaconda3\\lib\\site-packages\\sklearn\\ensemble\\_gb.py\", line 563, in _fit_stages\n",
      "    random_state, X_csc, X_csr)\n",
      "  File \"C:\\Users\\zhouj\\Anaconda3\\lib\\site-packages\\sklearn\\ensemble\\_gb.py\", line 192, in _fit_stage\n",
      "    sample_weight=sample_weight)\n",
      "  File \"C:\\Users\\zhouj\\Anaconda3\\lib\\site-packages\\sklearn\\ensemble\\_gb_losses.py\", line 720, in negative_gradient\n",
      "    logsumexp(raw_predictions, axis=1)))\n",
      "  File \"C:\\Users\\zhouj\\Anaconda3\\lib\\site-packages\\scipy\\special\\_logsumexp.py\", line 112, in logsumexp\n",
      "    tmp = np.exp(a - a_max)\n",
      "numpy.core._exceptions._ArrayMemoryError: Unable to allocate 1.17 MiB for an array with shape (30631, 5) and data type float64\n",
      "\n",
      "  FitFailedWarning)\n",
      "C:\\Users\\zhouj\\Anaconda3\\lib\\site-packages\\sklearn\\model_selection\\_validation.py:614: FitFailedWarning: Estimator fit failed. The score on this train-test partition for these parameters will be set to nan. Details: \n",
      "Traceback (most recent call last):\n",
      "  File \"C:\\Users\\zhouj\\Anaconda3\\lib\\site-packages\\sklearn\\model_selection\\_validation.py\", line 593, in _fit_and_score\n",
      "    estimator.fit(X_train, y_train, **fit_params)\n",
      "  File \"C:\\Users\\zhouj\\Anaconda3\\lib\\site-packages\\sklearn\\ensemble\\_gb.py\", line 413, in fit\n",
      "    dtype=DTYPE, multi_output=True)\n",
      "  File \"C:\\Users\\zhouj\\Anaconda3\\lib\\site-packages\\sklearn\\base.py\", line 433, in _validate_data\n",
      "    X, y = check_X_y(X, y, **check_params)\n",
      "  File \"C:\\Users\\zhouj\\Anaconda3\\lib\\site-packages\\sklearn\\utils\\validation.py\", line 63, in inner_f\n",
      "    return f(*args, **kwargs)\n",
      "  File \"C:\\Users\\zhouj\\Anaconda3\\lib\\site-packages\\sklearn\\utils\\validation.py\", line 821, in check_X_y\n",
      "    estimator=estimator)\n",
      "  File \"C:\\Users\\zhouj\\Anaconda3\\lib\\site-packages\\sklearn\\utils\\validation.py\", line 63, in inner_f\n",
      "    return f(*args, **kwargs)\n",
      "  File \"C:\\Users\\zhouj\\Anaconda3\\lib\\site-packages\\sklearn\\utils\\validation.py\", line 616, in check_array\n",
      "    array = np.asarray(array, order=order, dtype=dtype)\n",
      "  File \"C:\\Users\\zhouj\\Anaconda3\\lib\\site-packages\\numpy\\core\\_asarray.py\", line 83, in asarray\n",
      "    return array(a, dtype, copy=False, order=order)\n",
      "numpy.core._exceptions._ArrayMemoryError: Unable to allocate 37.4 MiB for an array with shape (30632, 320) and data type float32\n",
      "\n",
      "  FitFailedWarning)\n",
      " 78%|███████▊  | 7/9 [12:41:16<3:30:30, 6315.47s/it]C:\\Users\\zhouj\\Anaconda3\\lib\\site-packages\\sklearn\\model_selection\\_validation.py:614: FitFailedWarning: Estimator fit failed. The score on this train-test partition for these parameters will be set to nan. Details: \n",
      "Traceback (most recent call last):\n",
      "  File \"C:\\Users\\zhouj\\Anaconda3\\lib\\site-packages\\sklearn\\model_selection\\_validation.py\", line 593, in _fit_and_score\n",
      "    estimator.fit(X_train, y_train, **fit_params)\n",
      "  File \"C:\\Users\\zhouj\\Anaconda3\\lib\\site-packages\\sklearn\\ensemble\\_gb.py\", line 413, in fit\n",
      "    dtype=DTYPE, multi_output=True)\n",
      "  File \"C:\\Users\\zhouj\\Anaconda3\\lib\\site-packages\\sklearn\\base.py\", line 433, in _validate_data\n",
      "    X, y = check_X_y(X, y, **check_params)\n",
      "  File \"C:\\Users\\zhouj\\Anaconda3\\lib\\site-packages\\sklearn\\utils\\validation.py\", line 63, in inner_f\n",
      "    return f(*args, **kwargs)\n",
      "  File \"C:\\Users\\zhouj\\Anaconda3\\lib\\site-packages\\sklearn\\utils\\validation.py\", line 821, in check_X_y\n",
      "    estimator=estimator)\n",
      "  File \"C:\\Users\\zhouj\\Anaconda3\\lib\\site-packages\\sklearn\\utils\\validation.py\", line 63, in inner_f\n",
      "    return f(*args, **kwargs)\n",
      "  File \"C:\\Users\\zhouj\\Anaconda3\\lib\\site-packages\\sklearn\\utils\\validation.py\", line 616, in check_array\n",
      "    array = np.asarray(array, order=order, dtype=dtype)\n",
      "  File \"C:\\Users\\zhouj\\Anaconda3\\lib\\site-packages\\numpy\\core\\_asarray.py\", line 83, in asarray\n",
      "    return array(a, dtype, copy=False, order=order)\n",
      "numpy.core._exceptions._ArrayMemoryError: Unable to allocate 37.4 MiB for an array with shape (30631, 320) and data type float32\n",
      "\n",
      "  FitFailedWarning)\n",
      "C:\\Users\\zhouj\\Anaconda3\\lib\\site-packages\\sklearn\\model_selection\\_validation.py:614: FitFailedWarning: Estimator fit failed. The score on this train-test partition for these parameters will be set to nan. Details: \n",
      "Traceback (most recent call last):\n",
      "  File \"C:\\Users\\zhouj\\Anaconda3\\lib\\site-packages\\sklearn\\model_selection\\_validation.py\", line 593, in _fit_and_score\n",
      "    estimator.fit(X_train, y_train, **fit_params)\n",
      "  File \"C:\\Users\\zhouj\\Anaconda3\\lib\\site-packages\\sklearn\\ensemble\\_gb.py\", line 413, in fit\n",
      "    dtype=DTYPE, multi_output=True)\n",
      "  File \"C:\\Users\\zhouj\\Anaconda3\\lib\\site-packages\\sklearn\\base.py\", line 433, in _validate_data\n",
      "    X, y = check_X_y(X, y, **check_params)\n",
      "  File \"C:\\Users\\zhouj\\Anaconda3\\lib\\site-packages\\sklearn\\utils\\validation.py\", line 63, in inner_f\n",
      "    return f(*args, **kwargs)\n",
      "  File \"C:\\Users\\zhouj\\Anaconda3\\lib\\site-packages\\sklearn\\utils\\validation.py\", line 821, in check_X_y\n",
      "    estimator=estimator)\n",
      "  File \"C:\\Users\\zhouj\\Anaconda3\\lib\\site-packages\\sklearn\\utils\\validation.py\", line 63, in inner_f\n",
      "    return f(*args, **kwargs)\n",
      "  File \"C:\\Users\\zhouj\\Anaconda3\\lib\\site-packages\\sklearn\\utils\\validation.py\", line 616, in check_array\n",
      "    array = np.asarray(array, order=order, dtype=dtype)\n",
      "  File \"C:\\Users\\zhouj\\Anaconda3\\lib\\site-packages\\numpy\\core\\_asarray.py\", line 83, in asarray\n",
      "    return array(a, dtype, copy=False, order=order)\n",
      "numpy.core._exceptions._ArrayMemoryError: Unable to allocate 37.4 MiB for an array with shape (30631, 320) and data type float32\n",
      "\n",
      "  FitFailedWarning)\n",
      "C:\\Users\\zhouj\\Anaconda3\\lib\\site-packages\\sklearn\\model_selection\\_validation.py:614: FitFailedWarning: Estimator fit failed. The score on this train-test partition for these parameters will be set to nan. Details: \n",
      "Traceback (most recent call last):\n",
      "  File \"C:\\Users\\zhouj\\Anaconda3\\lib\\site-packages\\sklearn\\model_selection\\_validation.py\", line 593, in _fit_and_score\n",
      "    estimator.fit(X_train, y_train, **fit_params)\n",
      "  File \"C:\\Users\\zhouj\\Anaconda3\\lib\\site-packages\\sklearn\\ensemble\\_gb.py\", line 479, in fit\n",
      "    self.loss_.get_init_raw_predictions(X, self.init_)\n",
      "  File \"C:\\Users\\zhouj\\Anaconda3\\lib\\site-packages\\sklearn\\ensemble\\_gb_losses.py\", line 752, in get_init_raw_predictions\n",
      "    probas = estimator.predict_proba(X)\n",
      "  File \"C:\\Users\\zhouj\\Anaconda3\\lib\\site-packages\\sklearn\\dummy.py\", line 305, in predict_proba\n",
      "    out = np.ones((n_samples, 1)) * class_prior_[k]\n",
      "numpy.core._exceptions._ArrayMemoryError: Unable to allocate 1.17 MiB for an array with shape (30631, 5) and data type float64\n",
      "\n",
      "  FitFailedWarning)\n",
      "C:\\Users\\zhouj\\Anaconda3\\lib\\site-packages\\sklearn\\model_selection\\_validation.py:614: FitFailedWarning: Estimator fit failed. The score on this train-test partition for these parameters will be set to nan. Details: \n",
      "Traceback (most recent call last):\n",
      "  File \"C:\\Users\\zhouj\\Anaconda3\\lib\\site-packages\\sklearn\\model_selection\\_validation.py\", line 593, in _fit_and_score\n",
      "    estimator.fit(X_train, y_train, **fit_params)\n",
      "  File \"C:\\Users\\zhouj\\Anaconda3\\lib\\site-packages\\sklearn\\ensemble\\_gb.py\", line 479, in fit\n",
      "    self.loss_.get_init_raw_predictions(X, self.init_)\n",
      "  File \"C:\\Users\\zhouj\\Anaconda3\\lib\\site-packages\\sklearn\\ensemble\\_gb_losses.py\", line 752, in get_init_raw_predictions\n",
      "    probas = estimator.predict_proba(X)\n",
      "  File \"C:\\Users\\zhouj\\Anaconda3\\lib\\site-packages\\sklearn\\dummy.py\", line 305, in predict_proba\n",
      "    out = np.ones((n_samples, 1)) * class_prior_[k]\n",
      "numpy.core._exceptions._ArrayMemoryError: Unable to allocate 1.17 MiB for an array with shape (30631, 5) and data type float64\n",
      "\n",
      "  FitFailedWarning)\n",
      "C:\\Users\\zhouj\\Anaconda3\\lib\\site-packages\\sklearn\\model_selection\\_validation.py:614: FitFailedWarning: Estimator fit failed. The score on this train-test partition for these parameters will be set to nan. Details: \n",
      "Traceback (most recent call last):\n",
      "  File \"C:\\Users\\zhouj\\Anaconda3\\lib\\site-packages\\sklearn\\model_selection\\_validation.py\", line 593, in _fit_and_score\n",
      "    estimator.fit(X_train, y_train, **fit_params)\n",
      "  File \"C:\\Users\\zhouj\\Anaconda3\\lib\\site-packages\\sklearn\\ensemble\\_gb.py\", line 479, in fit\n",
      "    self.loss_.get_init_raw_predictions(X, self.init_)\n",
      "  File \"C:\\Users\\zhouj\\Anaconda3\\lib\\site-packages\\sklearn\\ensemble\\_gb_losses.py\", line 752, in get_init_raw_predictions\n",
      "    probas = estimator.predict_proba(X)\n",
      "  File \"C:\\Users\\zhouj\\Anaconda3\\lib\\site-packages\\sklearn\\dummy.py\", line 305, in predict_proba\n",
      "    out = np.ones((n_samples, 1)) * class_prior_[k]\n",
      "numpy.core._exceptions._ArrayMemoryError: Unable to allocate 1.17 MiB for an array with shape (30632, 5) and data type float64\n",
      "\n",
      "  FitFailedWarning)\n",
      " 89%|████████▉ | 8/9 [12:41:16<1:13:40, 4420.95s/it]C:\\Users\\zhouj\\Anaconda3\\lib\\site-packages\\sklearn\\model_selection\\_validation.py:614: FitFailedWarning: Estimator fit failed. The score on this train-test partition for these parameters will be set to nan. Details: \n",
      "Traceback (most recent call last):\n",
      "  File \"C:\\Users\\zhouj\\Anaconda3\\lib\\site-packages\\sklearn\\model_selection\\_validation.py\", line 593, in _fit_and_score\n",
      "    estimator.fit(X_train, y_train, **fit_params)\n",
      "  File \"C:\\Users\\zhouj\\Anaconda3\\lib\\site-packages\\sklearn\\ensemble\\_gb.py\", line 479, in fit\n",
      "    self.loss_.get_init_raw_predictions(X, self.init_)\n",
      "  File \"C:\\Users\\zhouj\\Anaconda3\\lib\\site-packages\\sklearn\\ensemble\\_gb_losses.py\", line 752, in get_init_raw_predictions\n",
      "    probas = estimator.predict_proba(X)\n",
      "  File \"C:\\Users\\zhouj\\Anaconda3\\lib\\site-packages\\sklearn\\dummy.py\", line 305, in predict_proba\n",
      "    out = np.ones((n_samples, 1)) * class_prior_[k]\n",
      "numpy.core._exceptions._ArrayMemoryError: Unable to allocate 1.17 MiB for an array with shape (30631, 5) and data type float64\n",
      "\n",
      "  FitFailedWarning)\n",
      "C:\\Users\\zhouj\\Anaconda3\\lib\\site-packages\\sklearn\\model_selection\\_validation.py:614: FitFailedWarning: Estimator fit failed. The score on this train-test partition for these parameters will be set to nan. Details: \n",
      "Traceback (most recent call last):\n",
      "  File \"C:\\Users\\zhouj\\Anaconda3\\lib\\site-packages\\sklearn\\model_selection\\_validation.py\", line 593, in _fit_and_score\n",
      "    estimator.fit(X_train, y_train, **fit_params)\n",
      "  File \"C:\\Users\\zhouj\\Anaconda3\\lib\\site-packages\\sklearn\\ensemble\\_gb.py\", line 479, in fit\n",
      "    self.loss_.get_init_raw_predictions(X, self.init_)\n",
      "  File \"C:\\Users\\zhouj\\Anaconda3\\lib\\site-packages\\sklearn\\ensemble\\_gb_losses.py\", line 754, in get_init_raw_predictions\n",
      "    probas = np.clip(probas, eps, 1 - eps)\n",
      "  File \"<__array_function__ internals>\", line 6, in clip\n",
      "  File \"C:\\Users\\zhouj\\Anaconda3\\lib\\site-packages\\numpy\\core\\fromnumeric.py\", line 2097, in clip\n",
      "    return _wrapfunc(a, 'clip', a_min, a_max, out=out, **kwargs)\n",
      "  File \"C:\\Users\\zhouj\\Anaconda3\\lib\\site-packages\\numpy\\core\\fromnumeric.py\", line 58, in _wrapfunc\n",
      "    return bound(*args, **kwds)\n",
      "  File \"C:\\Users\\zhouj\\Anaconda3\\lib\\site-packages\\numpy\\core\\_methods.py\", line 141, in _clip\n",
      "    um.clip, a, min, max, out=out, casting=casting, **kwargs)\n",
      "  File \"C:\\Users\\zhouj\\Anaconda3\\lib\\site-packages\\numpy\\core\\_methods.py\", line 94, in _clip_dep_invoke_with_casting\n",
      "    return ufunc(*args, out=out, **kwargs)\n",
      "numpy.core._exceptions._ArrayMemoryError: Unable to allocate 1.17 MiB for an array with shape (30631, 5) and data type float64\n",
      "\n",
      "  FitFailedWarning)\n",
      "ERROR:root:Internal Python error in the inspect module.\n",
      "Below is the traceback from this internal error.\n",
      "\n"
     ]
    },
    {
     "name": "stdout",
     "output_type": "stream",
     "text": [
      "Traceback (most recent call last):\n",
      "  File \"C:\\Users\\zhouj\\Anaconda3\\lib\\site-packages\\IPython\\core\\interactiveshell.py\", line 3326, in run_code\n",
      "    exec(code_obj, self.user_global_ns, self.user_ns)\n",
      "  File \"<ipython-input-8-d97624734706>\", line 8, in <module>\n",
      "    cv = 5))\n",
      "  File \"C:\\Users\\zhouj\\Anaconda3\\lib\\site-packages\\sklearn\\utils\\validation.py\", line 63, in inner_f\n",
      "    return f(*args, **kwargs)\n",
      "  File \"C:\\Users\\zhouj\\Anaconda3\\lib\\site-packages\\sklearn\\model_selection\\_validation.py\", line 445, in cross_val_score\n",
      "    error_score=error_score)\n",
      "  File \"C:\\Users\\zhouj\\Anaconda3\\lib\\site-packages\\sklearn\\utils\\validation.py\", line 63, in inner_f\n",
      "    return f(*args, **kwargs)\n",
      "  File \"C:\\Users\\zhouj\\Anaconda3\\lib\\site-packages\\sklearn\\model_selection\\_validation.py\", line 252, in cross_validate\n",
      "    for train, test in cv.split(X, y, groups))\n",
      "  File \"C:\\Users\\zhouj\\Anaconda3\\lib\\site-packages\\joblib\\parallel.py\", line 924, in __call__\n",
      "    while self.dispatch_one_batch(iterator):\n",
      "  File \"C:\\Users\\zhouj\\Anaconda3\\lib\\site-packages\\joblib\\parallel.py\", line 759, in dispatch_one_batch\n",
      "    self._dispatch(tasks)\n",
      "  File \"C:\\Users\\zhouj\\Anaconda3\\lib\\site-packages\\joblib\\parallel.py\", line 716, in _dispatch\n",
      "    job = self._backend.apply_async(batch, callback=cb)\n",
      "  File \"C:\\Users\\zhouj\\Anaconda3\\lib\\site-packages\\joblib\\_parallel_backends.py\", line 182, in apply_async\n",
      "    result = ImmediateResult(func)\n",
      "  File \"C:\\Users\\zhouj\\Anaconda3\\lib\\site-packages\\joblib\\_parallel_backends.py\", line 549, in __init__\n",
      "    self.results = batch()\n",
      "  File \"C:\\Users\\zhouj\\Anaconda3\\lib\\site-packages\\joblib\\parallel.py\", line 225, in __call__\n",
      "    for func, args, kwargs in self.items]\n",
      "  File \"C:\\Users\\zhouj\\Anaconda3\\lib\\site-packages\\joblib\\parallel.py\", line 225, in <listcomp>\n",
      "    for func, args, kwargs in self.items]\n",
      "  File \"C:\\Users\\zhouj\\Anaconda3\\lib\\site-packages\\sklearn\\utils\\fixes.py\", line 222, in __call__\n",
      "    return self.function(*args, **kwargs)\n",
      "  File \"C:\\Users\\zhouj\\Anaconda3\\lib\\site-packages\\sklearn\\model_selection\\_validation.py\", line 593, in _fit_and_score\n",
      "    estimator.fit(X_train, y_train, **fit_params)\n",
      "  File \"C:\\Users\\zhouj\\Anaconda3\\lib\\site-packages\\sklearn\\ensemble\\_gb.py\", line 506, in fit\n",
      "    sample_weight_val, begin_at_stage, monitor)\n",
      "  File \"C:\\Users\\zhouj\\Anaconda3\\lib\\site-packages\\sklearn\\ensemble\\_gb.py\", line 563, in _fit_stages\n",
      "    random_state, X_csc, X_csr)\n",
      "  File \"C:\\Users\\zhouj\\Anaconda3\\lib\\site-packages\\sklearn\\ensemble\\_gb.py\", line 215, in _fit_stage\n",
      "    check_input=False)\n",
      "  File \"C:\\Users\\zhouj\\Anaconda3\\lib\\site-packages\\sklearn\\tree\\_classes.py\", line 1251, in fit\n",
      "    X_idx_sorted=X_idx_sorted)\n",
      "  File \"C:\\Users\\zhouj\\Anaconda3\\lib\\site-packages\\sklearn\\tree\\_classes.py\", line 389, in fit\n",
      "    builder.build(self.tree_, X, y, sample_weight)\n",
      "KeyboardInterrupt\n",
      "\n",
      "During handling of the above exception, another exception occurred:\n",
      "\n",
      "Traceback (most recent call last):\n",
      "  File \"C:\\Users\\zhouj\\Anaconda3\\lib\\site-packages\\IPython\\core\\interactiveshell.py\", line 2040, in showtraceback\n",
      "    stb = value._render_traceback_()\n",
      "AttributeError: 'KeyboardInterrupt' object has no attribute '_render_traceback_'\n",
      "\n",
      "During handling of the above exception, another exception occurred:\n",
      "\n",
      "Traceback (most recent call last):\n",
      "  File \"C:\\Users\\zhouj\\Anaconda3\\lib\\site-packages\\IPython\\core\\ultratb.py\", line 1101, in get_records\n",
      "    return _fixed_getinnerframes(etb, number_of_lines_of_context, tb_offset)\n",
      "  File \"C:\\Users\\zhouj\\Anaconda3\\lib\\site-packages\\IPython\\core\\ultratb.py\", line 319, in wrapped\n",
      "    return f(*args, **kwargs)\n",
      "  File \"C:\\Users\\zhouj\\Anaconda3\\lib\\site-packages\\IPython\\core\\ultratb.py\", line 353, in _fixed_getinnerframes\n",
      "    records = fix_frame_records_filenames(inspect.getinnerframes(etb, context))\n",
      "  File \"C:\\Users\\zhouj\\Anaconda3\\lib\\inspect.py\", line 1502, in getinnerframes\n",
      "    frameinfo = (tb.tb_frame,) + getframeinfo(tb, context)\n",
      "  File \"C:\\Users\\zhouj\\Anaconda3\\lib\\inspect.py\", line 1460, in getframeinfo\n",
      "    filename = getsourcefile(frame) or getfile(frame)\n",
      "  File \"C:\\Users\\zhouj\\Anaconda3\\lib\\inspect.py\", line 696, in getsourcefile\n",
      "    if getattr(getmodule(object, filename), '__loader__', None) is not None:\n",
      "  File \"C:\\Users\\zhouj\\Anaconda3\\lib\\inspect.py\", line 739, in getmodule\n",
      "    f = getabsfile(module)\n",
      "  File \"C:\\Users\\zhouj\\Anaconda3\\lib\\inspect.py\", line 708, in getabsfile\n",
      "    _filename = getsourcefile(object) or getfile(object)\n",
      "  File \"C:\\Users\\zhouj\\Anaconda3\\lib\\inspect.py\", line 693, in getsourcefile\n",
      "    if os.path.exists(filename):\n",
      "  File \"C:\\Users\\zhouj\\Anaconda3\\lib\\genericpath.py\", line 19, in exists\n",
      "    os.stat(path)\n",
      "KeyboardInterrupt\n"
     ]
    },
    {
     "ename": "KeyboardInterrupt",
     "evalue": "",
     "output_type": "error",
     "traceback": [
      "\u001b[1;31m---------------------------------------------------------------------------\u001b[0m"
     ]
    }
   ],
   "source": [
    "cv_scores = []\n",
    "lr_cv = np.arange(0.1, 1.0, 0.1)\n",
    "for rate in tqdm(lr_cv):\n",
    "    gtb_class = GradientBoostingClassifier(learning_rate = rate)\n",
    "    cv_scores.append(cross_val_score(gtb_class,\n",
    "                                    train_x, np.ravel(train_y),\n",
    "                                    scoring = make_scorer(f1_score, average = \"macro\"),\n",
    "                                    cv = 5))"
   ]
  },
  {
   "cell_type": "code",
   "execution_count": 12,
   "metadata": {},
   "outputs": [
    {
     "data": {
      "text/plain": [
       "[<matplotlib.lines.Line2D at 0x15c56346d48>]"
      ]
     },
     "execution_count": 12,
     "metadata": {},
     "output_type": "execute_result"
    },
    {
     "data": {
      "image/png": "[encoded data removed]",
      "text/plain": [
       "<Figure size 432x288 with 1 Axes>"
      ]
     },
     "metadata": {
      "needs_background": "light"
     },
     "output_type": "display_data"
    }
   ],
   "source": [
    "plt.plot(lr_cv[0:5], [np.mean(x) for x in cv_scores[0:5]])"
   ]
  },
  {
   "cell_type": "code",
   "execution_count": 13,
   "metadata": {},
   "outputs": [
    {
     "name": "stderr",
     "output_type": "stream",
     "text": [
      "\n",
      "  0%|          | 0/5 [00:00<?, ?it/s]\n",
      " 20%|██        | 1/5 [2:02:46<8:11:06, 7366.71s/it]\n",
      " 40%|████      | 2/5 [4:00:09<6:03:28, 7269.53s/it]\n",
      " 60%|██████    | 3/5 [5:52:09<3:56:49, 7104.58s/it]\n",
      " 80%|████████  | 4/5 [7:49:02<1:57:57, 7077.12s/it]\n",
      "100%|██████████| 5/5 [9:43:07<00:00, 6997.55s/it]  \n"
     ]
    }
   ],
   "source": [
    "cv_scores = []\n",
    "lr_cv = np.arange(0.5, 1.0, 0.1)\n",
    "for rate in tqdm(lr_cv):\n",
    "    gtb_class = GradientBoostingClassifier(learning_rate = rate)\n",
    "    cv_scores.append(cross_val_score(gtb_class,\n",
    "                                    train_x, np.ravel(train_y),\n",
    "                                    scoring = make_scorer(f1_score, average = \"macro\"),\n",
    "                                    cv = 5))"
   ]
  },
  {
   "cell_type": "code",
   "execution_count": 15,
   "metadata": {},
   "outputs": [
    {
     "data": {
      "text/plain": [
       "[<matplotlib.lines.Line2D at 0x15c7dd07588>]"
      ]
     },
     "execution_count": 15,
     "metadata": {},
     "output_type": "execute_result"
    },
    {
     "data": {
      "image/png": "[encoded data removed]",
      "text/plain": [
       "<Figure size 432x288 with 1 Axes>"
      ]
     },
     "metadata": {
      "needs_background": "light"
     },
     "output_type": "display_data"
    }
   ],
   "source": [
    "plt.plot(lr_cv[0:5], [np.mean(x) for x in cv_scores[0:5]])"
   ]
  },
  {
   "cell_type": "code",
   "execution_count": 5,
   "metadata": {},
   "outputs": [
    {
     "name": "stderr",
     "output_type": "stream",
     "text": [
      " 70%|███████   | 7/10 [17:18:03<9:07:02, 10940.93s/it]ERROR:root:Internal Python error in the inspect module.\n",
      "Below is the traceback from this internal error.\n",
      "\n"
     ]
    },
    {
     "name": "stdout",
     "output_type": "stream",
     "text": [
      "Traceback (most recent call last):\n",
      "  File \"C:\\Users\\zhouj\\Anaconda3\\lib\\site-packages\\IPython\\core\\interactiveshell.py\", line 3326, in run_code\n",
      "    exec(code_obj, self.user_global_ns, self.user_ns)\n",
      "  File \"<ipython-input-5-1bcd8da19094>\", line 10, in <module>\n",
      "    cv = 5))\n",
      "  File \"C:\\Users\\zhouj\\Anaconda3\\lib\\site-packages\\sklearn\\utils\\validation.py\", line 63, in inner_f\n",
      "    return f(*args, **kwargs)\n",
      "  File \"C:\\Users\\zhouj\\Anaconda3\\lib\\site-packages\\sklearn\\model_selection\\_validation.py\", line 445, in cross_val_score\n",
      "    error_score=error_score)\n",
      "  File \"C:\\Users\\zhouj\\Anaconda3\\lib\\site-packages\\sklearn\\utils\\validation.py\", line 63, in inner_f\n",
      "    return f(*args, **kwargs)\n",
      "  File \"C:\\Users\\zhouj\\Anaconda3\\lib\\site-packages\\sklearn\\model_selection\\_validation.py\", line 252, in cross_validate\n",
      "    for train, test in cv.split(X, y, groups))\n",
      "  File \"C:\\Users\\zhouj\\Anaconda3\\lib\\site-packages\\joblib\\parallel.py\", line 924, in __call__\n",
      "    while self.dispatch_one_batch(iterator):\n",
      "  File \"C:\\Users\\zhouj\\Anaconda3\\lib\\site-packages\\joblib\\parallel.py\", line 759, in dispatch_one_batch\n",
      "    self._dispatch(tasks)\n",
      "  File \"C:\\Users\\zhouj\\Anaconda3\\lib\\site-packages\\joblib\\parallel.py\", line 716, in _dispatch\n",
      "    job = self._backend.apply_async(batch, callback=cb)\n",
      "  File \"C:\\Users\\zhouj\\Anaconda3\\lib\\site-packages\\joblib\\_parallel_backends.py\", line 182, in apply_async\n",
      "    result = ImmediateResult(func)\n",
      "  File \"C:\\Users\\zhouj\\Anaconda3\\lib\\site-packages\\joblib\\_parallel_backends.py\", line 549, in __init__\n",
      "    self.results = batch()\n",
      "  File \"C:\\Users\\zhouj\\Anaconda3\\lib\\site-packages\\joblib\\parallel.py\", line 225, in __call__\n",
      "    for func, args, kwargs in self.items]\n",
      "  File \"C:\\Users\\zhouj\\Anaconda3\\lib\\site-packages\\joblib\\parallel.py\", line 225, in <listcomp>\n",
      "    for func, args, kwargs in self.items]\n",
      "  File \"C:\\Users\\zhouj\\Anaconda3\\lib\\site-packages\\sklearn\\utils\\fixes.py\", line 222, in __call__\n",
      "    return self.function(*args, **kwargs)\n",
      "  File \"C:\\Users\\zhouj\\Anaconda3\\lib\\site-packages\\sklearn\\model_selection\\_validation.py\", line 593, in _fit_and_score\n",
      "    estimator.fit(X_train, y_train, **fit_params)\n",
      "  File \"C:\\Users\\zhouj\\Anaconda3\\lib\\site-packages\\sklearn\\ensemble\\_gb.py\", line 506, in fit\n",
      "    sample_weight_val, begin_at_stage, monitor)\n",
      "  File \"C:\\Users\\zhouj\\Anaconda3\\lib\\site-packages\\sklearn\\ensemble\\_gb.py\", line 563, in _fit_stages\n",
      "    random_state, X_csc, X_csr)\n",
      "  File \"C:\\Users\\zhouj\\Anaconda3\\lib\\site-packages\\sklearn\\ensemble\\_gb.py\", line 215, in _fit_stage\n",
      "    check_input=False)\n",
      "  File \"C:\\Users\\zhouj\\Anaconda3\\lib\\site-packages\\sklearn\\tree\\_classes.py\", line 1251, in fit\n",
      "    X_idx_sorted=X_idx_sorted)\n",
      "  File \"C:\\Users\\zhouj\\Anaconda3\\lib\\site-packages\\sklearn\\tree\\_classes.py\", line 389, in fit\n",
      "    builder.build(self.tree_, X, y, sample_weight)\n",
      "KeyboardInterrupt\n",
      "\n",
      "During handling of the above exception, another exception occurred:\n",
      "\n",
      "Traceback (most recent call last):\n",
      "  File \"C:\\Users\\zhouj\\Anaconda3\\lib\\site-packages\\IPython\\core\\interactiveshell.py\", line 2040, in showtraceback\n",
      "    stb = value._render_traceback_()\n",
      "AttributeError: 'KeyboardInterrupt' object has no attribute '_render_traceback_'\n",
      "\n",
      "During handling of the above exception, another exception occurred:\n",
      "\n",
      "Traceback (most recent call last):\n",
      "  File \"C:\\Users\\zhouj\\Anaconda3\\lib\\site-packages\\IPython\\core\\ultratb.py\", line 1101, in get_records\n",
      "    return _fixed_getinnerframes(etb, number_of_lines_of_context, tb_offset)\n",
      "  File \"C:\\Users\\zhouj\\Anaconda3\\lib\\site-packages\\IPython\\core\\ultratb.py\", line 319, in wrapped\n",
      "    return f(*args, **kwargs)\n",
      "  File \"C:\\Users\\zhouj\\Anaconda3\\lib\\site-packages\\IPython\\core\\ultratb.py\", line 353, in _fixed_getinnerframes\n",
      "    records = fix_frame_records_filenames(inspect.getinnerframes(etb, context))\n",
      "  File \"C:\\Users\\zhouj\\Anaconda3\\lib\\inspect.py\", line 1502, in getinnerframes\n",
      "    frameinfo = (tb.tb_frame,) + getframeinfo(tb, context)\n",
      "  File \"C:\\Users\\zhouj\\Anaconda3\\lib\\inspect.py\", line 1460, in getframeinfo\n",
      "    filename = getsourcefile(frame) or getfile(frame)\n",
      "  File \"C:\\Users\\zhouj\\Anaconda3\\lib\\inspect.py\", line 696, in getsourcefile\n",
      "    if getattr(getmodule(object, filename), '__loader__', None) is not None:\n",
      "  File \"C:\\Users\\zhouj\\Anaconda3\\lib\\inspect.py\", line 732, in getmodule\n",
      "    for modname, module in list(sys.modules.items()):\n",
      "KeyboardInterrupt\n"
     ]
    },
    {
     "ename": "KeyboardInterrupt",
     "evalue": "",
     "output_type": "error",
     "traceback": [
      "\u001b[1;31m---------------------------------------------------------------------------\u001b[0m"
     ]
    }
   ],
   "source": [
    "cv_scores = []\n",
    "lr_cv = 0.5\n",
    "depth_cv = np.arange(1, 11, 1)\n",
    "for depth in tqdm(depth_cv):\n",
    "    gtb_class = GradientBoostingClassifier(learning_rate = lr_cv,\n",
    "                                          max_depth = depth)\n",
    "    cv_scores.append(cross_val_score(gtb_class,\n",
    "                                    train_x, np.ravel(train_y),\n",
    "                                    scoring = make_scorer(f1_score, average = \"macro\"),\n",
    "                                    cv = 5))"
   ]
  },
  {
   "cell_type": "code",
   "execution_count": 10,
   "metadata": {},
   "outputs": [
    {
     "data": {
      "text/plain": [
       "[<matplotlib.lines.Line2D at 0x21395f59a48>]"
      ]
     },
     "execution_count": 10,
     "metadata": {},
     "output_type": "execute_result"
    },
    {
     "data": {
      "image/png": "[encoded data removed]",
      "text/plain": [
       "<Figure size 432x288 with 1 Axes>"
      ]
     },
     "metadata": {
      "needs_background": "light"
     },
     "output_type": "display_data"
    }
   ],
   "source": [
    "plt.plot(depth_cv[0:7], [np.mean(x) for x in cv_scores[0:7]])"
   ]
  },
  {
   "cell_type": "code",
   "execution_count": 11,
   "metadata": {},
   "outputs": [
    {
     "data": {
      "text/plain": [
       "GradientBoostingClassifier(learning_rate=0.5, max_depth=7)"
      ]
     },
     "execution_count": 11,
     "metadata": {},
     "output_type": "execute_result"
    }
   ],
   "source": [
    "gtb_cv = GradientBoostingClassifier(learning_rate = lr_cv,\n",
    "                                          max_depth = 7)\n",
    "gtb_cv.fit(train_x, np.ravel(train_y))"
   ]
  },
  {
   "cell_type": "code",
   "execution_count": 12,
   "metadata": {},
   "outputs": [
    {
     "name": "stdout",
     "output_type": "stream",
     "text": [
      "Accuracy: 1.0\n",
      "Precision: 1.0\n",
      "Recall: 1.0\n",
      "F1: 1.0\n"
     ]
    }
   ],
   "source": [
    "from sklearn.metrics import accuracy_score, precision_score, recall_score\n",
    "train_pred_y = gtb_cv.predict(train_x)\n",
    "print(\"Accuracy: \" + str(accuracy_score(train_y, train_pred_y)))\n",
    "print(\"Precision: \" + str(precision_score(train_y, train_pred_y, average = \"macro\")))\n",
    "print(\"Recall: \" + str(recall_score(train_y, train_pred_y, average = \"macro\")))\n",
    "print(\"F1: \" + str(f1_score(train_y, train_pred_y, average = \"macro\")))"
   ]
  },
  {
   "cell_type": "code",
   "execution_count": 13,
   "metadata": {},
   "outputs": [],
   "source": [
    "test_x = pd.read_csv(\"../DreemSleepStageClassificationChallengeData/dreem-sleep-stages/test_x.csv\",\n",
    "                     index_col = \"id\")"
   ]
  },
  {
   "cell_type": "code",
   "execution_count": 15,
   "metadata": {},
   "outputs": [],
   "source": [
    "test_pred_y = gtb_cv.predict(test_x)"
   ]
  },
  {
   "cell_type": "code",
   "execution_count": 17,
   "metadata": {},
   "outputs": [
    {
     "data": {
      "text/html": [
       "<div>\n",
       "<style scoped>\n",
       "    .dataframe tbody tr th:only-of-type {\n",
       "        vertical-align: middle;\n",
       "    }\n",
       "\n",
       "    .dataframe tbody tr th {\n",
       "        vertical-align: top;\n",
       "    }\n",
       "\n",
       "    .dataframe thead th {\n",
       "        text-align: right;\n",
       "    }\n",
       "</style>\n",
       "<table border=\"1\" class=\"dataframe\">\n",
       "  <thead>\n",
       "    <tr style=\"text-align: right;\">\n",
       "      <th></th>\n",
       "      <th>sleep_stage</th>\n",
       "    </tr>\n",
       "    <tr>\n",
       "      <th>id</th>\n",
       "      <th></th>\n",
       "    </tr>\n",
       "  </thead>\n",
       "  <tbody>\n",
       "    <tr>\n",
       "      <td>0</td>\n",
       "      <td>0</td>\n",
       "    </tr>\n",
       "    <tr>\n",
       "      <td>1</td>\n",
       "      <td>2</td>\n",
       "    </tr>\n",
       "    <tr>\n",
       "      <td>2</td>\n",
       "      <td>2</td>\n",
       "    </tr>\n",
       "    <tr>\n",
       "      <td>3</td>\n",
       "      <td>0</td>\n",
       "    </tr>\n",
       "    <tr>\n",
       "      <td>4</td>\n",
       "      <td>4</td>\n",
       "    </tr>\n",
       "    <tr>\n",
       "      <td>...</td>\n",
       "      <td>...</td>\n",
       "    </tr>\n",
       "    <tr>\n",
       "      <td>37434</td>\n",
       "      <td>1</td>\n",
       "    </tr>\n",
       "    <tr>\n",
       "      <td>37435</td>\n",
       "      <td>0</td>\n",
       "    </tr>\n",
       "    <tr>\n",
       "      <td>37436</td>\n",
       "      <td>4</td>\n",
       "    </tr>\n",
       "    <tr>\n",
       "      <td>37437</td>\n",
       "      <td>2</td>\n",
       "    </tr>\n",
       "    <tr>\n",
       "      <td>37438</td>\n",
       "      <td>3</td>\n",
       "    </tr>\n",
       "  </tbody>\n",
       "</table>\n",
       "<p>37439 rows × 1 columns</p>\n",
       "</div>"
      ],
      "text/plain": [
       "       sleep_stage\n",
       "id                \n",
       "0                0\n",
       "1                2\n",
       "2                2\n",
       "3                0\n",
       "4                4\n",
       "...            ...\n",
       "37434            1\n",
       "37435            0\n",
       "37436            4\n",
       "37437            2\n",
       "37438            3\n",
       "\n",
       "[37439 rows x 1 columns]"
      ]
     },
     "execution_count": 17,
     "metadata": {},
     "output_type": "execute_result"
    }
   ],
   "source": [
    "test_pred_y = pd.DataFrame({\"sleep_stage\": test_pred_y})\n",
    "test_pred_y.index.name = \"id\"\n",
    "test_pred_y"
   ]
  },
  {
   "cell_type": "code",
   "execution_count": 18,
   "metadata": {},
   "outputs": [],
   "source": [
    "test_pred_y.to_csv(\"../DreemSleepStageClassificationChallengeData/dreem-sleep-stages/test_pred_y_gtb.csv\")"
   ]
  },
  {
   "cell_type": "code",
   "execution_count": null,
   "metadata": {},
   "outputs": [],
   "source": []
  }
 ],
 "metadata": {
  "kernelspec": {
   "display_name": "Python 3",
   "language": "python",
   "name": "python3"
  },
  "language_info": {
   "codemirror_mode": {
    "name": "ipython",
    "version": 3
   },
   "file_extension": ".py",
   "mimetype": "text/x-python",
   "name": "python",
   "nbconvert_exporter": "python",
   "pygments_lexer": "ipython3",
   "version": "3.7.4"
  }
 },
 "nbformat": 4,
 "nbformat_minor": 4
}
