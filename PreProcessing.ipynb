{
 "cells": [
  {
   "cell_type": "markdown",
   "metadata": {},
   "source": [
    "Data fields\n",
    "The data is separated between the differents signals recorded by the Dreem headband. Signal is shapes in windows of 30 seconds.\n",
    "\n",
    "Electroencephalogram is measured at 7 differents locations of the head (eeg_1 -> eeg_7). The sampling frequency is 50 Hz.\n",
    "\n",
    "Pulse oximeter (pulse_oximeter_infrared) and acceleromter (accelerometer_[x/y/z]) channels are sampled at 10Hz\n",
    "\n",
    "eeg_1 - EEG in frontal position sampled at 50 Hz -> 1500 values\n",
    "eeg_2 - EEG in frontal position sampled at 50 Hz -> 1500 values\n",
    "eeg_3 - EEG in frontal position sampled at 50 Hz -> 1500 values\n",
    "eeg_4 - EEG in frontal-occipital position sampled at 50 Hz -> 1500 values\n",
    "eeg_5 - EEG in frontal-occipital position sampled at 50 Hz -> 1500 values\n",
    "eeg_6 - EEG in frontal-occipital position sampled at 50 Hz -> 1500 values\n",
    "eeg_7 - EEG in frontal-occipital position sampled at 50 Hz -> 1500 values\n",
    "accelerometer_x - Accelerometer along x axis sampled at 10 Hz -> 300 values\n",
    "accelerometer_y - Accelerometer along y axis sampled at 10 Hz -> 300 values\n",
    "accelerometer_z - Accelerometer along z axis sampled at 10 Hz -> 300 values\n",
    "pulse_oximeter_infrared - Pulse oximeter infrared channel sampled at 10 Hz -> 300 values"
   ]
  },
  {
   "cell_type": "markdown",
   "metadata": {},
   "source": [
    "Filtrage des signaux avec critère de Nyquist et décomposition des EEG en bandes de fréquence."
   ]
  },
  {
   "cell_type": "code",
   "execution_count": 2,
   "metadata": {},
   "outputs": [],
   "source": [
    "import h5py\n",
    "from scipy import signal\n",
    "from tqdm import tqdm"
   ]
  },
  {
   "cell_type": "code",
   "execution_count": 2,
   "metadata": {},
   "outputs": [],
   "source": [
    "train = h5py.File(\"../DreemSleepStageClassificationChallengeData/dreem-sleep-stages/train.h5\", \"r\")\n",
    "train_pp = h5py.File(\"../DreemSleepStageClassificationChallengeData/dreem-sleep-stages/train_pp.h5\", \"w\")\n",
    "test = h5py.File(\"../DreemSleepStageClassificationChallengeData/dreem-sleep-stages/test.h5\", \"r\")\n",
    "test_pp = h5py.File(\"../DreemSleepStageClassificationChallengeData/dreem-sleep-stages/test_pp.h5\", \"w\")"
   ]
  },
  {
   "cell_type": "code",
   "execution_count": 3,
   "metadata": {},
   "outputs": [
    {
     "data": {
      "text/plain": [
       "['accelerometer_x',\n",
       " 'accelerometer_y',\n",
       " 'accelerometer_z',\n",
       " 'eeg_1',\n",
       " 'eeg_2',\n",
       " 'eeg_3',\n",
       " 'eeg_4',\n",
       " 'eeg_5',\n",
       " 'eeg_6',\n",
       " 'eeg_7',\n",
       " 'pulse_oximeter_infrared']"
      ]
     },
     "execution_count": 3,
     "metadata": {},
     "output_type": "execute_result"
    }
   ],
   "source": [
    "list(train.keys())"
   ]
  },
  {
   "cell_type": "markdown",
   "metadata": {},
   "source": [
    "On laisse les données d'accéléromètre et oxymetre telles quelles."
   ]
  },
  {
   "cell_type": "code",
   "execution_count": 4,
   "metadata": {},
   "outputs": [
    {
     "data": {
      "text/plain": [
       "(38289, 300)"
      ]
     },
     "execution_count": 4,
     "metadata": {},
     "output_type": "execute_result"
    }
   ],
   "source": [
    "train['accelerometer_x'].shape"
   ]
  },
  {
   "cell_type": "code",
   "execution_count": 5,
   "metadata": {},
   "outputs": [
    {
     "name": "stdout",
     "output_type": "stream",
     "text": [
      "accelerometer_x\n"
     ]
    },
    {
     "name": "stderr",
     "output_type": "stream",
     "text": [
      "100%|██████████| 38289/38289 [10:54<00:00, 58.50it/s] \n"
     ]
    },
    {
     "name": "stdout",
     "output_type": "stream",
     "text": [
      "accelerometer_y\n"
     ]
    },
    {
     "name": "stderr",
     "output_type": "stream",
     "text": [
      "100%|██████████| 38289/38289 [09:35<00:00, 66.53it/s] \n"
     ]
    },
    {
     "name": "stdout",
     "output_type": "stream",
     "text": [
      "accelerometer_z\n"
     ]
    },
    {
     "name": "stderr",
     "output_type": "stream",
     "text": [
      "100%|██████████| 38289/38289 [13:49<00:00, 46.15it/s] \n"
     ]
    },
    {
     "name": "stdout",
     "output_type": "stream",
     "text": [
      "pulse_oximeter_infrared\n"
     ]
    },
    {
     "name": "stderr",
     "output_type": "stream",
     "text": [
      "100%|██████████| 38289/38289 [13:36<00:00, 46.89it/s] \n"
     ]
    }
   ],
   "source": [
    "for key in ['accelerometer_x',\n",
    "            'accelerometer_y',\n",
    "            'accelerometer_z',\n",
    "            'pulse_oximeter_infrared']:\n",
    "    print(key)\n",
    "    current_shape = train[key].shape\n",
    "    train_pp.create_dataset(key, shape = current_shape)\n",
    "    for i in tqdm(range(current_shape[0])):\n",
    "        train_pp[key][i] = train[key][i]"
   ]
  },
  {
   "cell_type": "code",
   "execution_count": 6,
   "metadata": {},
   "outputs": [
    {
     "name": "stdout",
     "output_type": "stream",
     "text": [
      "accelerometer_x\n"
     ]
    },
    {
     "name": "stderr",
     "output_type": "stream",
     "text": [
      "100%|██████████| 37439/37439 [24:46<00:00, 25.19it/s]  \n"
     ]
    },
    {
     "name": "stdout",
     "output_type": "stream",
     "text": [
      "accelerometer_y\n"
     ]
    },
    {
     "name": "stderr",
     "output_type": "stream",
     "text": [
      "100%|██████████| 37439/37439 [24:44<00:00, 25.23it/s]  \n"
     ]
    },
    {
     "name": "stdout",
     "output_type": "stream",
     "text": [
      "accelerometer_z\n"
     ]
    },
    {
     "name": "stderr",
     "output_type": "stream",
     "text": [
      "100%|██████████| 37439/37439 [27:20<00:00, 22.82it/s]  \n"
     ]
    },
    {
     "name": "stdout",
     "output_type": "stream",
     "text": [
      "pulse_oximeter_infrared\n"
     ]
    },
    {
     "name": "stderr",
     "output_type": "stream",
     "text": [
      "100%|██████████| 37439/37439 [24:15<00:00, 25.72it/s]  \n"
     ]
    }
   ],
   "source": [
    "for key in ['accelerometer_x',\n",
    "            'accelerometer_y',\n",
    "            'accelerometer_z',\n",
    "            'pulse_oximeter_infrared']:\n",
    "    print(key)\n",
    "    current_shape = test[key].shape\n",
    "    test_pp.create_dataset(key, shape = current_shape)\n",
    "    for i in tqdm(range(current_shape[0])):\n",
    "        test_pp[key][i] = test[key][i]"
   ]
  },
  {
   "cell_type": "code",
   "execution_count": 7,
   "metadata": {},
   "outputs": [],
   "source": [
    "train.close()\n",
    "train_pp.close()\n",
    "test.close()\n",
    "test_pp.close()"
   ]
  },
  {
   "cell_type": "markdown",
   "metadata": {},
   "source": [
    "On décompose les signaux EEG en différentes bandes:\n",
    "- delta: 0-4 Hz\n",
    "- Theta: 4-8 Hz\n",
    "- Alpha: 8-13 Hz\n",
    "- Beta: 13-22 Hz\n",
    "- Gamme: > 30 Hz."
   ]
  },
  {
   "cell_type": "code",
   "execution_count": 2,
   "metadata": {},
   "outputs": [],
   "source": [
    "train = h5py.File(\"../DreemSleepStageClassificationChallengeData/dreem-sleep-stages/train.h5\", \"r\")\n",
    "train_pp = h5py.File(\"../DreemSleepStageClassificationChallengeData/dreem-sleep-stages/train_pp.h5\", \"r+\")\n",
    "test = h5py.File(\"../DreemSleepStageClassificationChallengeData/dreem-sleep-stages/test.h5\", \"r\")\n",
    "test_pp = h5py.File(\"../DreemSleepStageClassificationChallengeData/dreem-sleep-stages/test_pp.h5\", \"r+\")"
   ]
  },
  {
   "cell_type": "markdown",
   "metadata": {},
   "source": [
    "Delta"
   ]
  },
  {
   "cell_type": "code",
   "execution_count": 3,
   "metadata": {},
   "outputs": [],
   "source": [
    "N, Wn = signal.buttord(wp = 4,\n",
    "                       ws = 5, \n",
    "                       gpass = 3, \n",
    "                       gstop = 40, \n",
    "                       analog = False,\n",
    "                       fs = 50)\n",
    "sos = signal.butter(N, Wn, \n",
    "                    'lowpass', \n",
    "                    analog = False,\n",
    "                    output='sos',\n",
    "                   fs = 50)"
   ]
  },
  {
   "cell_type": "code",
   "execution_count": 7,
   "metadata": {},
   "outputs": [
    {
     "name": "stdout",
     "output_type": "stream",
     "text": [
      "eeg_1\n"
     ]
    },
    {
     "name": "stderr",
     "output_type": "stream",
     "text": [
      "100%|██████████| 38289/38289 [20:35<00:00, 31.00it/s]\n"
     ]
    },
    {
     "name": "stdout",
     "output_type": "stream",
     "text": [
      "eeg_2\n"
     ]
    },
    {
     "name": "stderr",
     "output_type": "stream",
     "text": [
      "100%|██████████| 38289/38289 [30:03<00:00, 21.23it/s]   \n"
     ]
    },
    {
     "name": "stdout",
     "output_type": "stream",
     "text": [
      "eeg_3\n"
     ]
    },
    {
     "name": "stderr",
     "output_type": "stream",
     "text": [
      "100%|██████████| 38289/38289 [37:26<00:00, 17.04it/s]  \n"
     ]
    },
    {
     "name": "stdout",
     "output_type": "stream",
     "text": [
      "eeg_4\n"
     ]
    },
    {
     "name": "stderr",
     "output_type": "stream",
     "text": [
      "100%|██████████| 38289/38289 [31:25<00:00, 20.30it/s]   \n"
     ]
    },
    {
     "name": "stdout",
     "output_type": "stream",
     "text": [
      "eeg_5\n"
     ]
    },
    {
     "name": "stderr",
     "output_type": "stream",
     "text": [
      "100%|██████████| 38289/38289 [19:58<00:00, 31.95it/s]\n"
     ]
    },
    {
     "name": "stdout",
     "output_type": "stream",
     "text": [
      "eeg_6\n"
     ]
    },
    {
     "name": "stderr",
     "output_type": "stream",
     "text": [
      "100%|██████████| 38289/38289 [19:53<00:00, 32.09it/s]\n"
     ]
    },
    {
     "name": "stdout",
     "output_type": "stream",
     "text": [
      "eeg_7\n"
     ]
    },
    {
     "name": "stderr",
     "output_type": "stream",
     "text": [
      "100%|██████████| 38289/38289 [21:01<00:00, 30.35it/s] \n"
     ]
    }
   ],
   "source": [
    "num_eeg = 7\n",
    "for i in range(num_eeg):\n",
    "    current_eeg = 'eeg_' + str(i+1)\n",
    "    print(current_eeg)\n",
    "    current_shape = train[current_eeg].shape\n",
    "    train_pp.create_dataset(current_eeg + \"_delta\", shape = current_shape)\n",
    "    for j in tqdm(range(current_shape[0])):\n",
    "        train_pp[current_eeg + \"_delta\"][j] = signal.sosfilt(sos, train[current_eeg][j])"
   ]
  },
  {
   "cell_type": "code",
   "execution_count": 15,
   "metadata": {},
   "outputs": [
    {
     "name": "stdout",
     "output_type": "stream",
     "text": [
      "eeg_1\n"
     ]
    },
    {
     "name": "stderr",
     "output_type": "stream",
     "text": [
      "100%|██████████| 37439/37439 [28:00<00:00, 22.28it/s]  \n"
     ]
    },
    {
     "name": "stdout",
     "output_type": "stream",
     "text": [
      "eeg_2\n"
     ]
    },
    {
     "name": "stderr",
     "output_type": "stream",
     "text": [
      "100%|██████████| 37439/37439 [23:42<00:00, 26.31it/s]  \n"
     ]
    },
    {
     "name": "stdout",
     "output_type": "stream",
     "text": [
      "eeg_3\n"
     ]
    },
    {
     "name": "stderr",
     "output_type": "stream",
     "text": [
      "100%|██████████| 37439/37439 [28:24<00:00, 21.96it/s]  \n"
     ]
    },
    {
     "name": "stdout",
     "output_type": "stream",
     "text": [
      "eeg_4\n"
     ]
    },
    {
     "name": "stderr",
     "output_type": "stream",
     "text": [
      "100%|██████████| 37439/37439 [3:17:25<00:00,  3.16it/s]    \n"
     ]
    },
    {
     "name": "stdout",
     "output_type": "stream",
     "text": [
      "eeg_5\n"
     ]
    },
    {
     "name": "stderr",
     "output_type": "stream",
     "text": [
      "100%|██████████| 37439/37439 [25:33<00:00, 24.41it/s] \n"
     ]
    },
    {
     "name": "stdout",
     "output_type": "stream",
     "text": [
      "eeg_6\n"
     ]
    },
    {
     "name": "stderr",
     "output_type": "stream",
     "text": [
      "100%|██████████| 37439/37439 [20:52<00:00, 29.90it/s]\n"
     ]
    },
    {
     "name": "stdout",
     "output_type": "stream",
     "text": [
      "eeg_7\n"
     ]
    },
    {
     "name": "stderr",
     "output_type": "stream",
     "text": [
      "100%|██████████| 37439/37439 [22:28<00:00, 27.77it/s] \n"
     ]
    }
   ],
   "source": [
    "num_eeg = 7\n",
    "for i in range(num_eeg):\n",
    "    current_eeg = 'eeg_' + str(i+1)\n",
    "    print(current_eeg)\n",
    "    current_shape = test[current_eeg].shape\n",
    "    test_pp.create_dataset(current_eeg + \"_delta\", shape = current_shape)\n",
    "    for j in tqdm(range(current_shape[0])):\n",
    "        test_pp[current_eeg + \"_delta\"][j] = signal.sosfilt(sos, test[current_eeg][j])"
   ]
  },
  {
   "cell_type": "markdown",
   "metadata": {},
   "source": [
    "Theta 4 8"
   ]
  },
  {
   "cell_type": "code",
   "execution_count": 16,
   "metadata": {},
   "outputs": [],
   "source": [
    "N, Wn = signal.buttord(wp = [4, 8],\n",
    "                       ws = [3, 9], \n",
    "                       gpass = 3, \n",
    "                       gstop = 40, \n",
    "                       analog = False,\n",
    "                       fs = 50)\n",
    "sos = signal.butter(N, Wn, \n",
    "                    'bandpass', \n",
    "                    analog = False,\n",
    "                    output='sos',\n",
    "                   fs = 50)"
   ]
  },
  {
   "cell_type": "code",
   "execution_count": 17,
   "metadata": {},
   "outputs": [
    {
     "name": "stdout",
     "output_type": "stream",
     "text": [
      "eeg_1\n"
     ]
    },
    {
     "name": "stderr",
     "output_type": "stream",
     "text": [
      "100%|██████████| 38289/38289 [19:48<00:00, 32.21it/s]\n"
     ]
    },
    {
     "name": "stdout",
     "output_type": "stream",
     "text": [
      "eeg_2\n"
     ]
    },
    {
     "name": "stderr",
     "output_type": "stream",
     "text": [
      "100%|██████████| 38289/38289 [19:51<00:00, 32.14it/s]\n"
     ]
    },
    {
     "name": "stdout",
     "output_type": "stream",
     "text": [
      "eeg_3\n"
     ]
    },
    {
     "name": "stderr",
     "output_type": "stream",
     "text": [
      "100%|██████████| 38289/38289 [19:55<00:00, 32.04it/s]\n"
     ]
    },
    {
     "name": "stdout",
     "output_type": "stream",
     "text": [
      "eeg_4\n"
     ]
    },
    {
     "name": "stderr",
     "output_type": "stream",
     "text": [
      "100%|██████████| 38289/38289 [19:55<00:00, 32.03it/s]\n"
     ]
    },
    {
     "name": "stdout",
     "output_type": "stream",
     "text": [
      "eeg_5\n"
     ]
    },
    {
     "name": "stderr",
     "output_type": "stream",
     "text": [
      "100%|██████████| 38289/38289 [19:46<00:00, 32.26it/s]\n"
     ]
    },
    {
     "name": "stdout",
     "output_type": "stream",
     "text": [
      "eeg_6\n"
     ]
    },
    {
     "name": "stderr",
     "output_type": "stream",
     "text": [
      "100%|██████████| 38289/38289 [22:53<00:00, 27.88it/s]  \n"
     ]
    },
    {
     "name": "stdout",
     "output_type": "stream",
     "text": [
      "eeg_7\n"
     ]
    },
    {
     "name": "stderr",
     "output_type": "stream",
     "text": [
      "100%|██████████| 38289/38289 [28:18<00:00, 22.54it/s]  \n"
     ]
    }
   ],
   "source": [
    "num_eeg = 7\n",
    "for i in range(num_eeg):\n",
    "    current_eeg = 'eeg_' + str(i+1)\n",
    "    print(current_eeg)\n",
    "    current_shape = train[current_eeg].shape\n",
    "    train_pp.create_dataset(current_eeg + \"_theta\", shape = current_shape)\n",
    "    for j in tqdm(range(current_shape[0])):\n",
    "        train_pp[current_eeg + \"_theta\"][j] = signal.sosfilt(sos, train[current_eeg][j])"
   ]
  },
  {
   "cell_type": "code",
   "execution_count": 18,
   "metadata": {},
   "outputs": [
    {
     "name": "stdout",
     "output_type": "stream",
     "text": [
      "eeg_1\n"
     ]
    },
    {
     "name": "stderr",
     "output_type": "stream",
     "text": [
      "100%|██████████| 37439/37439 [31:21<00:00, 19.90it/s]  \n"
     ]
    },
    {
     "name": "stdout",
     "output_type": "stream",
     "text": [
      "eeg_2\n"
     ]
    },
    {
     "name": "stderr",
     "output_type": "stream",
     "text": [
      "100%|██████████| 37439/37439 [41:05<00:00, 15.18it/s]  \n"
     ]
    },
    {
     "name": "stdout",
     "output_type": "stream",
     "text": [
      "eeg_3\n"
     ]
    },
    {
     "name": "stderr",
     "output_type": "stream",
     "text": [
      "100%|██████████| 37439/37439 [12:25:14<00:00,  1.19s/it]         \n"
     ]
    },
    {
     "name": "stdout",
     "output_type": "stream",
     "text": [
      "eeg_4\n"
     ]
    },
    {
     "name": "stderr",
     "output_type": "stream",
     "text": [
      "100%|██████████| 37439/37439 [22:10<00:00, 28.14it/s]  \n"
     ]
    },
    {
     "name": "stdout",
     "output_type": "stream",
     "text": [
      "eeg_5\n"
     ]
    },
    {
     "name": "stderr",
     "output_type": "stream",
     "text": [
      "100%|██████████| 37439/37439 [19:16<00:00, 32.36it/s]\n"
     ]
    },
    {
     "name": "stdout",
     "output_type": "stream",
     "text": [
      "eeg_6\n"
     ]
    },
    {
     "name": "stderr",
     "output_type": "stream",
     "text": [
      "100%|██████████| 37439/37439 [19:20<00:00, 32.26it/s]\n"
     ]
    },
    {
     "name": "stdout",
     "output_type": "stream",
     "text": [
      "eeg_7\n"
     ]
    },
    {
     "name": "stderr",
     "output_type": "stream",
     "text": [
      "100%|██████████| 37439/37439 [30:39<00:00, 20.35it/s]  \n"
     ]
    }
   ],
   "source": [
    "num_eeg = 7\n",
    "for i in range(num_eeg):\n",
    "    current_eeg = 'eeg_' + str(i+1)\n",
    "    print(current_eeg)\n",
    "    current_shape = test[current_eeg].shape\n",
    "    test_pp.create_dataset(current_eeg + \"_theta\", shape = current_shape)\n",
    "    for j in tqdm(range(current_shape[0])):\n",
    "        test_pp[current_eeg + \"_theta\"][j] = signal.sosfilt(sos, test[current_eeg][j])"
   ]
  },
  {
   "cell_type": "code",
   "execution_count": 19,
   "metadata": {},
   "outputs": [],
   "source": [
    "train.close()\n",
    "train_pp.close()\n",
    "test.close()\n",
    "test_pp.close()"
   ]
  },
  {
   "cell_type": "code",
   "execution_count": 3,
   "metadata": {},
   "outputs": [],
   "source": [
    "train = h5py.File(\"../DreemSleepStageClassificationChallengeData/dreem-sleep-stages/train.h5\", \"r\")\n",
    "train_pp = h5py.File(\"../DreemSleepStageClassificationChallengeData/dreem-sleep-stages/train_pp.h5\", \"r+\")\n",
    "test = h5py.File(\"../DreemSleepStageClassificationChallengeData/dreem-sleep-stages/test.h5\", \"r\")\n",
    "test_pp = h5py.File(\"../DreemSleepStageClassificationChallengeData/dreem-sleep-stages/test_pp.h5\", \"r+\")"
   ]
  },
  {
   "cell_type": "markdown",
   "metadata": {},
   "source": [
    "alpha 8-13"
   ]
  },
  {
   "cell_type": "code",
   "execution_count": 4,
   "metadata": {},
   "outputs": [],
   "source": [
    "N, Wn = signal.buttord(wp = [8, 13],\n",
    "                       ws = [7, 14], \n",
    "                       gpass = 3, \n",
    "                       gstop = 40, \n",
    "                       analog = False,\n",
    "                       fs = 50)\n",
    "sos = signal.butter(N, Wn, \n",
    "                    'bandpass', \n",
    "                    analog = False,\n",
    "                    output='sos',\n",
    "                   fs = 50)"
   ]
  },
  {
   "cell_type": "code",
   "execution_count": 5,
   "metadata": {},
   "outputs": [
    {
     "name": "stdout",
     "output_type": "stream",
     "text": [
      "eeg_1\n"
     ]
    },
    {
     "name": "stderr",
     "output_type": "stream",
     "text": [
      "100%|██████████| 38289/38289 [27:38<00:00, 23.08it/s] \n"
     ]
    },
    {
     "name": "stdout",
     "output_type": "stream",
     "text": [
      "eeg_2\n"
     ]
    },
    {
     "name": "stderr",
     "output_type": "stream",
     "text": [
      "100%|██████████| 38289/38289 [28:41<00:00, 22.24it/s]  \n"
     ]
    },
    {
     "name": "stdout",
     "output_type": "stream",
     "text": [
      "eeg_3\n"
     ]
    },
    {
     "name": "stderr",
     "output_type": "stream",
     "text": [
      "100%|██████████| 38289/38289 [33:28<00:00, 19.07it/s]  \n"
     ]
    },
    {
     "name": "stdout",
     "output_type": "stream",
     "text": [
      "eeg_4\n"
     ]
    },
    {
     "name": "stderr",
     "output_type": "stream",
     "text": [
      "100%|██████████| 38289/38289 [33:24<00:00, 19.10it/s]  \n"
     ]
    },
    {
     "name": "stdout",
     "output_type": "stream",
     "text": [
      "eeg_5\n"
     ]
    },
    {
     "name": "stderr",
     "output_type": "stream",
     "text": [
      "100%|██████████| 38289/38289 [32:44<00:00, 19.49it/s]  \n"
     ]
    },
    {
     "name": "stdout",
     "output_type": "stream",
     "text": [
      "eeg_6\n"
     ]
    },
    {
     "name": "stderr",
     "output_type": "stream",
     "text": [
      "100%|██████████| 38289/38289 [35:12<00:00, 18.12it/s]  \n"
     ]
    },
    {
     "name": "stdout",
     "output_type": "stream",
     "text": [
      "eeg_7\n"
     ]
    },
    {
     "name": "stderr",
     "output_type": "stream",
     "text": [
      "100%|██████████| 38289/38289 [44:02<00:00, 14.49it/s]  \n"
     ]
    }
   ],
   "source": [
    "num_eeg = 7\n",
    "for i in range(num_eeg):\n",
    "    current_eeg = 'eeg_' + str(i+1)\n",
    "    print(current_eeg)\n",
    "    current_shape = train[current_eeg].shape\n",
    "    train_pp.create_dataset(current_eeg + \"_alpha\", shape = current_shape)\n",
    "    for j in tqdm(range(current_shape[0])):\n",
    "        train_pp[current_eeg + \"_alpha\"][j] = signal.sosfilt(sos, train[current_eeg][j])"
   ]
  },
  {
   "cell_type": "code",
   "execution_count": 6,
   "metadata": {},
   "outputs": [
    {
     "name": "stdout",
     "output_type": "stream",
     "text": [
      "eeg_1\n"
     ]
    },
    {
     "name": "stderr",
     "output_type": "stream",
     "text": [
      "100%|██████████| 37439/37439 [42:16<00:00, 14.76it/s]  \n"
     ]
    },
    {
     "name": "stdout",
     "output_type": "stream",
     "text": [
      "eeg_2\n"
     ]
    },
    {
     "name": "stderr",
     "output_type": "stream",
     "text": [
      "100%|██████████| 37439/37439 [30:31<00:00, 20.45it/s]  \n"
     ]
    },
    {
     "name": "stdout",
     "output_type": "stream",
     "text": [
      "eeg_3\n"
     ]
    },
    {
     "name": "stderr",
     "output_type": "stream",
     "text": [
      "100%|██████████| 37439/37439 [30:08<00:00, 20.70it/s]  \n"
     ]
    },
    {
     "name": "stdout",
     "output_type": "stream",
     "text": [
      "eeg_4\n"
     ]
    },
    {
     "name": "stderr",
     "output_type": "stream",
     "text": [
      "100%|██████████| 37439/37439 [30:24<00:00, 20.52it/s]  \n"
     ]
    },
    {
     "name": "stdout",
     "output_type": "stream",
     "text": [
      "eeg_5\n"
     ]
    },
    {
     "name": "stderr",
     "output_type": "stream",
     "text": [
      "100%|██████████| 37439/37439 [30:09<00:00, 20.69it/s]  \n"
     ]
    },
    {
     "name": "stdout",
     "output_type": "stream",
     "text": [
      "eeg_6\n"
     ]
    },
    {
     "name": "stderr",
     "output_type": "stream",
     "text": [
      "100%|██████████| 37439/37439 [31:26<00:00, 19.84it/s]  \n"
     ]
    },
    {
     "name": "stdout",
     "output_type": "stream",
     "text": [
      "eeg_7\n"
     ]
    },
    {
     "name": "stderr",
     "output_type": "stream",
     "text": [
      "100%|██████████| 37439/37439 [35:38<00:00, 17.51it/s]  \n"
     ]
    }
   ],
   "source": [
    "num_eeg = 7\n",
    "for i in range(num_eeg):\n",
    "    current_eeg = 'eeg_' + str(i+1)\n",
    "    print(current_eeg)\n",
    "    current_shape = test[current_eeg].shape\n",
    "    test_pp.create_dataset(current_eeg + \"_alpha\", shape = current_shape)\n",
    "    for j in tqdm(range(current_shape[0])):\n",
    "        test_pp[current_eeg + \"_alpha\"][j] = signal.sosfilt(sos, test[current_eeg][j])"
   ]
  },
  {
   "cell_type": "markdown",
   "metadata": {},
   "source": [
    "beta 13 22 faire un passe haut plutot ?"
   ]
  },
  {
   "cell_type": "code",
   "execution_count": 7,
   "metadata": {},
   "outputs": [],
   "source": [
    "N, Wn = signal.buttord(wp = 13,\n",
    "                       ws = 12, \n",
    "                       gpass = 3, \n",
    "                       gstop = 40, \n",
    "                       analog = False,\n",
    "                       fs = 50)\n",
    "sos = signal.butter(N, Wn, \n",
    "                    'highpass', \n",
    "                    analog = False,\n",
    "                    output='sos',\n",
    "                   fs = 50)"
   ]
  },
  {
   "cell_type": "code",
   "execution_count": 8,
   "metadata": {},
   "outputs": [
    {
     "name": "stdout",
     "output_type": "stream",
     "text": [
      "eeg_1\n"
     ]
    },
    {
     "name": "stderr",
     "output_type": "stream",
     "text": [
      "100%|██████████| 38289/38289 [34:05<00:00, 18.72it/s]  \n"
     ]
    },
    {
     "name": "stdout",
     "output_type": "stream",
     "text": [
      "eeg_2\n"
     ]
    },
    {
     "name": "stderr",
     "output_type": "stream",
     "text": [
      "100%|██████████| 38289/38289 [32:52<00:00, 19.41it/s]  \n"
     ]
    },
    {
     "name": "stdout",
     "output_type": "stream",
     "text": [
      "eeg_3\n"
     ]
    },
    {
     "name": "stderr",
     "output_type": "stream",
     "text": [
      "100%|██████████| 38289/38289 [30:01<00:00, 21.26it/s] \n"
     ]
    },
    {
     "name": "stdout",
     "output_type": "stream",
     "text": [
      "eeg_4\n"
     ]
    },
    {
     "name": "stderr",
     "output_type": "stream",
     "text": [
      "100%|██████████| 38289/38289 [29:40<00:00, 21.51it/s]  \n"
     ]
    },
    {
     "name": "stdout",
     "output_type": "stream",
     "text": [
      "eeg_5\n"
     ]
    },
    {
     "name": "stderr",
     "output_type": "stream",
     "text": [
      "100%|██████████| 38289/38289 [10:27:16<00:00,  1.02it/s]      \n"
     ]
    },
    {
     "name": "stdout",
     "output_type": "stream",
     "text": [
      "eeg_6\n"
     ]
    },
    {
     "name": "stderr",
     "output_type": "stream",
     "text": [
      "100%|██████████| 38289/38289 [21:05<00:00, 30.27it/s] \n"
     ]
    },
    {
     "name": "stdout",
     "output_type": "stream",
     "text": [
      "eeg_7\n"
     ]
    },
    {
     "name": "stderr",
     "output_type": "stream",
     "text": [
      "100%|██████████| 38289/38289 [20:02<00:00, 31.85it/s]\n"
     ]
    }
   ],
   "source": [
    "num_eeg = 7\n",
    "for i in range(num_eeg):\n",
    "    current_eeg = 'eeg_' + str(i+1)\n",
    "    print(current_eeg)\n",
    "    current_shape = train[current_eeg].shape\n",
    "    train_pp.create_dataset(current_eeg + \"_beta\", shape = current_shape)\n",
    "    for j in tqdm(range(current_shape[0])):\n",
    "        train_pp[current_eeg + \"_beta\"][j] = signal.sosfilt(sos, train[current_eeg][j])"
   ]
  },
  {
   "cell_type": "code",
   "execution_count": 9,
   "metadata": {},
   "outputs": [
    {
     "name": "stdout",
     "output_type": "stream",
     "text": [
      "eeg_1\n"
     ]
    },
    {
     "name": "stderr",
     "output_type": "stream",
     "text": [
      "100%|██████████| 37439/37439 [19:08<00:00, 32.61it/s]\n"
     ]
    },
    {
     "name": "stdout",
     "output_type": "stream",
     "text": [
      "eeg_2\n"
     ]
    },
    {
     "name": "stderr",
     "output_type": "stream",
     "text": [
      "100%|██████████| 37439/37439 [18:55<00:00, 32.99it/s] \n"
     ]
    },
    {
     "name": "stdout",
     "output_type": "stream",
     "text": [
      "eeg_3\n"
     ]
    },
    {
     "name": "stderr",
     "output_type": "stream",
     "text": [
      "100%|██████████| 37439/37439 [18:43<00:00, 33.31it/s]\n"
     ]
    },
    {
     "name": "stdout",
     "output_type": "stream",
     "text": [
      "eeg_4\n"
     ]
    },
    {
     "name": "stderr",
     "output_type": "stream",
     "text": [
      "100%|██████████| 37439/37439 [19:00<00:00, 32.82it/s]\n"
     ]
    },
    {
     "name": "stdout",
     "output_type": "stream",
     "text": [
      "eeg_5\n"
     ]
    },
    {
     "name": "stderr",
     "output_type": "stream",
     "text": [
      "100%|██████████| 37439/37439 [21:05<00:00, 29.57it/s]  \n"
     ]
    },
    {
     "name": "stdout",
     "output_type": "stream",
     "text": [
      "eeg_6\n"
     ]
    },
    {
     "name": "stderr",
     "output_type": "stream",
     "text": [
      "100%|██████████| 37439/37439 [31:57<00:00, 19.52it/s]  \n"
     ]
    },
    {
     "name": "stdout",
     "output_type": "stream",
     "text": [
      "eeg_7\n"
     ]
    },
    {
     "name": "stderr",
     "output_type": "stream",
     "text": [
      "100%|██████████| 37439/37439 [19:11<00:00, 32.51it/s]\n"
     ]
    }
   ],
   "source": [
    "num_eeg = 7\n",
    "for i in range(num_eeg):\n",
    "    current_eeg = 'eeg_' + str(i+1)\n",
    "    print(current_eeg)\n",
    "    current_shape = test[current_eeg].shape\n",
    "    test_pp.create_dataset(current_eeg + \"_beta\", shape = current_shape)\n",
    "    for j in tqdm(range(current_shape[0])):\n",
    "        test_pp[current_eeg + \"_beta\"][j] = signal.sosfilt(sos, test[current_eeg][j])"
   ]
  },
  {
   "cell_type": "code",
   "execution_count": 10,
   "metadata": {},
   "outputs": [],
   "source": [
    "train.close()\n",
    "train_pp.close()\n",
    "test.close()\n",
    "test_pp.close()"
   ]
  },
  {
   "cell_type": "code",
   "execution_count": null,
   "metadata": {},
   "outputs": [],
   "source": []
  }
 ],
 "metadata": {
  "kernelspec": {
   "display_name": "Python 3",
   "language": "python",
   "name": "python3"
  },
  "language_info": {
   "codemirror_mode": {
    "name": "ipython",
    "version": 3
   },
   "file_extension": ".py",
   "mimetype": "text/x-python",
   "name": "python",
   "nbconvert_exporter": "python",
   "pygments_lexer": "ipython3",
   "version": "3.7.4"
  }
 },
 "nbformat": 4,
 "nbformat_minor": 4
}
