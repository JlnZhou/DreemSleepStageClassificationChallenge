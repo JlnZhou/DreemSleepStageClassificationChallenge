{
 "cells": [
  {
   "cell_type": "code",
   "execution_count": 46,
   "metadata": {},
   "outputs": [],
   "source": [
    "import pandas as pd\n",
    "import numpy as np\n",
    "import matplotlib.pyplot as plt\n",
    "from tqdm import tqdm"
   ]
  },
  {
   "cell_type": "code",
   "execution_count": 11,
   "metadata": {},
   "outputs": [],
   "source": [
    "train_x = pd.read_csv(\"../DreemSleepStageClassificationChallengeData/dreem-sleep-stages/train_x.csv\",\n",
    "                     index_col = \"id\")\n",
    "train_y = pd.read_csv(\"../DreemSleepStageClassificationChallengeData/dreem-sleep-stages/train_y.csv\",\n",
    "                     index_col = \"id\")"
   ]
  },
  {
   "cell_type": "markdown",
   "metadata": {},
   "source": [
    "# variable cible"
   ]
  },
  {
   "cell_type": "code",
   "execution_count": 12,
   "metadata": {},
   "outputs": [],
   "source": [
    "train_y[\"sleep_stage\"] = train_y[\"sleep_stage\"].astype(\"category\")"
   ]
  },
  {
   "cell_type": "code",
   "execution_count": 13,
   "metadata": {},
   "outputs": [
    {
     "data": {
      "text/html": [
       "<div>\n",
       "<style scoped>\n",
       "    .dataframe tbody tr th:only-of-type {\n",
       "        vertical-align: middle;\n",
       "    }\n",
       "\n",
       "    .dataframe tbody tr th {\n",
       "        vertical-align: top;\n",
       "    }\n",
       "\n",
       "    .dataframe thead th {\n",
       "        text-align: right;\n",
       "    }\n",
       "</style>\n",
       "<table border=\"1\" class=\"dataframe\">\n",
       "  <thead>\n",
       "    <tr style=\"text-align: right;\">\n",
       "      <th></th>\n",
       "      <th>sleep_stage</th>\n",
       "    </tr>\n",
       "  </thead>\n",
       "  <tbody>\n",
       "    <tr>\n",
       "      <td>count</td>\n",
       "      <td>38289</td>\n",
       "    </tr>\n",
       "    <tr>\n",
       "      <td>unique</td>\n",
       "      <td>5</td>\n",
       "    </tr>\n",
       "    <tr>\n",
       "      <td>top</td>\n",
       "      <td>2</td>\n",
       "    </tr>\n",
       "    <tr>\n",
       "      <td>freq</td>\n",
       "      <td>17132</td>\n",
       "    </tr>\n",
       "  </tbody>\n",
       "</table>\n",
       "</div>"
      ],
      "text/plain": [
       "        sleep_stage\n",
       "count         38289\n",
       "unique            5\n",
       "top               2\n",
       "freq          17132"
      ]
     },
     "execution_count": 13,
     "metadata": {},
     "output_type": "execute_result"
    }
   ],
   "source": [
    "train_y.describe(include = \"all\")"
   ]
  },
  {
   "cell_type": "code",
   "execution_count": 15,
   "metadata": {},
   "outputs": [
    {
     "data": {
      "text/plain": [
       "<matplotlib.axes._subplots.AxesSubplot at 0x23e003b6988>"
      ]
     },
     "execution_count": 15,
     "metadata": {},
     "output_type": "execute_result"
    },
    {
     "data": {
      "image/png": "[encoded data removed]",
      "text/plain": [
       "<Figure size 432x288 with 1 Axes>"
      ]
     },
     "metadata": {
      "needs_background": "light"
     },
     "output_type": "display_data"
    }
   ],
   "source": [
    "train_y[\"sleep_stage\"].value_counts().plot(kind = \"bar\")"
   ]
  },
  {
   "cell_type": "markdown",
   "metadata": {},
   "source": [
    "Classes inégales!"
   ]
  },
  {
   "cell_type": "markdown",
   "metadata": {},
   "source": [
    "# DT"
   ]
  },
  {
   "cell_type": "code",
   "execution_count": 35,
   "metadata": {},
   "outputs": [],
   "source": [
    "from sklearn.model_selection import cross_val_score\n",
    "from sklearn.tree import DecisionTreeClassifier\n",
    "from sklearn.metrics import make_scorer\n",
    "from sklearn.metrics import f1_score"
   ]
  },
  {
   "cell_type": "code",
   "execution_count": 17,
   "metadata": {},
   "outputs": [
    {
     "data": {
      "text/html": [
       "<div>\n",
       "<style scoped>\n",
       "    .dataframe tbody tr th:only-of-type {\n",
       "        vertical-align: middle;\n",
       "    }\n",
       "\n",
       "    .dataframe tbody tr th {\n",
       "        vertical-align: top;\n",
       "    }\n",
       "\n",
       "    .dataframe thead th {\n",
       "        text-align: right;\n",
       "    }\n",
       "</style>\n",
       "<table border=\"1\" class=\"dataframe\">\n",
       "  <thead>\n",
       "    <tr style=\"text-align: right;\">\n",
       "      <th></th>\n",
       "      <th>accelerometer_x_MMD</th>\n",
       "      <th>accelerometer_x_energy</th>\n",
       "      <th>accelerometer_x_mean</th>\n",
       "      <th>accelerometer_x_q05</th>\n",
       "      <th>accelerometer_x_q25</th>\n",
       "      <th>accelerometer_x_q50</th>\n",
       "      <th>accelerometer_x_q75</th>\n",
       "      <th>accelerometer_x_q95</th>\n",
       "      <th>accelerometer_x_std</th>\n",
       "      <th>accelerometer_x_var</th>\n",
       "      <th>...</th>\n",
       "      <th>pulse_oximeter_infrared_MMD</th>\n",
       "      <th>pulse_oximeter_infrared_energy</th>\n",
       "      <th>pulse_oximeter_infrared_mean</th>\n",
       "      <th>pulse_oximeter_infrared_q05</th>\n",
       "      <th>pulse_oximeter_infrared_q25</th>\n",
       "      <th>pulse_oximeter_infrared_q50</th>\n",
       "      <th>pulse_oximeter_infrared_q75</th>\n",
       "      <th>pulse_oximeter_infrared_q95</th>\n",
       "      <th>pulse_oximeter_infrared_std</th>\n",
       "      <th>pulse_oximeter_infrared_var</th>\n",
       "    </tr>\n",
       "  </thead>\n",
       "  <tbody>\n",
       "    <tr>\n",
       "      <td>count</td>\n",
       "      <td>38289.000000</td>\n",
       "      <td>38289.000000</td>\n",
       "      <td>3.828900e+04</td>\n",
       "      <td>38289.000000</td>\n",
       "      <td>38289.000000</td>\n",
       "      <td>38289.000000</td>\n",
       "      <td>38289.000000</td>\n",
       "      <td>38289.000000</td>\n",
       "      <td>38289.000000</td>\n",
       "      <td>3.828900e+04</td>\n",
       "      <td>...</td>\n",
       "      <td>3.828900e+04</td>\n",
       "      <td>3.828900e+04</td>\n",
       "      <td>38289.000000</td>\n",
       "      <td>38289.000000</td>\n",
       "      <td>38289.000000</td>\n",
       "      <td>38289.000000</td>\n",
       "      <td>38289.000000</td>\n",
       "      <td>38289.000000</td>\n",
       "      <td>38289.000000</td>\n",
       "      <td>3.828900e+04</td>\n",
       "    </tr>\n",
       "    <tr>\n",
       "      <td>mean</td>\n",
       "      <td>96.568037</td>\n",
       "      <td>0.186038</td>\n",
       "      <td>-1.377160e-06</td>\n",
       "      <td>-0.010626</td>\n",
       "      <td>-0.002018</td>\n",
       "      <td>-0.000012</td>\n",
       "      <td>0.001986</td>\n",
       "      <td>0.010532</td>\n",
       "      <td>0.006573</td>\n",
       "      <td>6.184939e-04</td>\n",
       "      <td>...</td>\n",
       "      <td>2.319042e+04</td>\n",
       "      <td>2.322318e+10</td>\n",
       "      <td>0.267376</td>\n",
       "      <td>-1431.213224</td>\n",
       "      <td>-115.287918</td>\n",
       "      <td>9.352575</td>\n",
       "      <td>115.855310</td>\n",
       "      <td>1415.890903</td>\n",
       "      <td>1459.721512</td>\n",
       "      <td>7.737677e+07</td>\n",
       "    </tr>\n",
       "    <tr>\n",
       "      <td>std</td>\n",
       "      <td>37.180369</td>\n",
       "      <td>1.218527</td>\n",
       "      <td>1.277959e-03</td>\n",
       "      <td>0.041211</td>\n",
       "      <td>0.009108</td>\n",
       "      <td>0.001191</td>\n",
       "      <td>0.008796</td>\n",
       "      <td>0.041051</td>\n",
       "      <td>0.023986</td>\n",
       "      <td>4.054510e-03</td>\n",
       "      <td>...</td>\n",
       "      <td>1.414643e+05</td>\n",
       "      <td>3.513172e+11</td>\n",
       "      <td>183.900604</td>\n",
       "      <td>9582.897478</td>\n",
       "      <td>467.757754</td>\n",
       "      <td>34.316416</td>\n",
       "      <td>503.688906</td>\n",
       "      <td>9560.034979</td>\n",
       "      <td>8674.557793</td>\n",
       "      <td>1.170722e+09</td>\n",
       "    </tr>\n",
       "    <tr>\n",
       "      <td>min</td>\n",
       "      <td>3.000015</td>\n",
       "      <td>0.000011</td>\n",
       "      <td>-3.504368e-02</td>\n",
       "      <td>-0.709106</td>\n",
       "      <td>-0.392181</td>\n",
       "      <td>-0.054666</td>\n",
       "      <td>0.000113</td>\n",
       "      <td>0.000300</td>\n",
       "      <td>0.000192</td>\n",
       "      <td>3.693734e-08</td>\n",
       "      <td>...</td>\n",
       "      <td>1.129745e+02</td>\n",
       "      <td>1.098501e+04</td>\n",
       "      <td>-10278.869141</td>\n",
       "      <td>-331507.485938</td>\n",
       "      <td>-30753.790527</td>\n",
       "      <td>-1229.049744</td>\n",
       "      <td>2.647015</td>\n",
       "      <td>9.405673</td>\n",
       "      <td>6.033838</td>\n",
       "      <td>3.640720e+01</td>\n",
       "    </tr>\n",
       "    <tr>\n",
       "      <td>25%</td>\n",
       "      <td>68.000003</td>\n",
       "      <td>0.000063</td>\n",
       "      <td>-1.560568e-05</td>\n",
       "      <td>-0.001985</td>\n",
       "      <td>-0.000797</td>\n",
       "      <td>-0.000038</td>\n",
       "      <td>0.000293</td>\n",
       "      <td>0.000737</td>\n",
       "      <td>0.000459</td>\n",
       "      <td>2.106975e-07</td>\n",
       "      <td>...</td>\n",
       "      <td>7.298453e+02</td>\n",
       "      <td>1.038083e+06</td>\n",
       "      <td>-1.041271</td>\n",
       "      <td>-275.718315</td>\n",
       "      <td>-109.597664</td>\n",
       "      <td>-1.538553</td>\n",
       "      <td>41.977120</td>\n",
       "      <td>83.368438</td>\n",
       "      <td>58.815010</td>\n",
       "      <td>3.459205e+03</td>\n",
       "    </tr>\n",
       "    <tr>\n",
       "      <td>50%</td>\n",
       "      <td>93.001217</td>\n",
       "      <td>0.000140</td>\n",
       "      <td>-1.113667e-07</td>\n",
       "      <td>-0.001077</td>\n",
       "      <td>-0.000435</td>\n",
       "      <td>-0.000002</td>\n",
       "      <td>0.000437</td>\n",
       "      <td>0.001071</td>\n",
       "      <td>0.000682</td>\n",
       "      <td>4.654599e-07</td>\n",
       "      <td>...</td>\n",
       "      <td>1.205965e+03</td>\n",
       "      <td>2.986544e+06</td>\n",
       "      <td>-0.064950</td>\n",
       "      <td>-161.131559</td>\n",
       "      <td>-67.297079</td>\n",
       "      <td>3.426422</td>\n",
       "      <td>68.930470</td>\n",
       "      <td>140.278486</td>\n",
       "      <td>99.759605</td>\n",
       "      <td>9.951979e+03</td>\n",
       "    </tr>\n",
       "    <tr>\n",
       "      <td>75%</td>\n",
       "      <td>120.002380</td>\n",
       "      <td>0.000549</td>\n",
       "      <td>1.576023e-05</td>\n",
       "      <td>-0.000736</td>\n",
       "      <td>-0.000292</td>\n",
       "      <td>0.000030</td>\n",
       "      <td>0.000798</td>\n",
       "      <td>0.001999</td>\n",
       "      <td>0.001351</td>\n",
       "      <td>1.824902e-06</td>\n",
       "      <td>...</td>\n",
       "      <td>2.137771e+03</td>\n",
       "      <td>8.697440e+06</td>\n",
       "      <td>0.896816</td>\n",
       "      <td>-92.736968</td>\n",
       "      <td>-40.692745</td>\n",
       "      <td>16.247725</td>\n",
       "      <td>110.747343</td>\n",
       "      <td>236.576952</td>\n",
       "      <td>170.259949</td>\n",
       "      <td>2.898845e+04</td>\n",
       "    </tr>\n",
       "    <tr>\n",
       "      <td>max</td>\n",
       "      <td>261.000000</td>\n",
       "      <td>74.927444</td>\n",
       "      <td>2.788562e-02</td>\n",
       "      <td>-0.000296</td>\n",
       "      <td>-0.000113</td>\n",
       "      <td>0.045180</td>\n",
       "      <td>0.294514</td>\n",
       "      <td>0.871945</td>\n",
       "      <td>0.499568</td>\n",
       "      <td>2.495684e-01</td>\n",
       "      <td>...</td>\n",
       "      <td>5.578843e+06</td>\n",
       "      <td>2.662110e+13</td>\n",
       "      <td>10811.424805</td>\n",
       "      <td>-10.012200</td>\n",
       "      <td>-3.984814</td>\n",
       "      <td>3378.588013</td>\n",
       "      <td>35130.878906</td>\n",
       "      <td>472081.448438</td>\n",
       "      <td>297844.875000</td>\n",
       "      <td>8.871157e+10</td>\n",
       "    </tr>\n",
       "  </tbody>\n",
       "</table>\n",
       "<p>8 rows × 320 columns</p>\n",
       "</div>"
      ],
      "text/plain": [
       "       accelerometer_x_MMD  accelerometer_x_energy  accelerometer_x_mean  \\\n",
       "count         38289.000000            38289.000000          3.828900e+04   \n",
       "mean             96.568037                0.186038         -1.377160e-06   \n",
       "std              37.180369                1.218527          1.277959e-03   \n",
       "min               3.000015                0.000011         -3.504368e-02   \n",
       "25%              68.000003                0.000063         -1.560568e-05   \n",
       "50%              93.001217                0.000140         -1.113667e-07   \n",
       "75%             120.002380                0.000549          1.576023e-05   \n",
       "max             261.000000               74.927444          2.788562e-02   \n",
       "\n",
       "       accelerometer_x_q05  accelerometer_x_q25  accelerometer_x_q50  \\\n",
       "count         38289.000000         38289.000000         38289.000000   \n",
       "mean             -0.010626            -0.002018            -0.000012   \n",
       "std               0.041211             0.009108             0.001191   \n",
       "min              -0.709106            -0.392181            -0.054666   \n",
       "25%              -0.001985            -0.000797            -0.000038   \n",
       "50%              -0.001077            -0.000435            -0.000002   \n",
       "75%              -0.000736            -0.000292             0.000030   \n",
       "max              -0.000296            -0.000113             0.045180   \n",
       "\n",
       "       accelerometer_x_q75  accelerometer_x_q95  accelerometer_x_std  \\\n",
       "count         38289.000000         38289.000000         38289.000000   \n",
       "mean              0.001986             0.010532             0.006573   \n",
       "std               0.008796             0.041051             0.023986   \n",
       "min               0.000113             0.000300             0.000192   \n",
       "25%               0.000293             0.000737             0.000459   \n",
       "50%               0.000437             0.001071             0.000682   \n",
       "75%               0.000798             0.001999             0.001351   \n",
       "max               0.294514             0.871945             0.499568   \n",
       "\n",
       "       accelerometer_x_var  ...  pulse_oximeter_infrared_MMD  \\\n",
       "count         3.828900e+04  ...                 3.828900e+04   \n",
       "mean          6.184939e-04  ...                 2.319042e+04   \n",
       "std           4.054510e-03  ...                 1.414643e+05   \n",
       "min           3.693734e-08  ...                 1.129745e+02   \n",
       "25%           2.106975e-07  ...                 7.298453e+02   \n",
       "50%           4.654599e-07  ...                 1.205965e+03   \n",
       "75%           1.824902e-06  ...                 2.137771e+03   \n",
       "max           2.495684e-01  ...                 5.578843e+06   \n",
       "\n",
       "       pulse_oximeter_infrared_energy  pulse_oximeter_infrared_mean  \\\n",
       "count                    3.828900e+04                  38289.000000   \n",
       "mean                     2.322318e+10                      0.267376   \n",
       "std                      3.513172e+11                    183.900604   \n",
       "min                      1.098501e+04                 -10278.869141   \n",
       "25%                      1.038083e+06                     -1.041271   \n",
       "50%                      2.986544e+06                     -0.064950   \n",
       "75%                      8.697440e+06                      0.896816   \n",
       "max                      2.662110e+13                  10811.424805   \n",
       "\n",
       "       pulse_oximeter_infrared_q05  pulse_oximeter_infrared_q25  \\\n",
       "count                 38289.000000                 38289.000000   \n",
       "mean                  -1431.213224                  -115.287918   \n",
       "std                    9582.897478                   467.757754   \n",
       "min                 -331507.485938                -30753.790527   \n",
       "25%                    -275.718315                  -109.597664   \n",
       "50%                    -161.131559                   -67.297079   \n",
       "75%                     -92.736968                   -40.692745   \n",
       "max                     -10.012200                    -3.984814   \n",
       "\n",
       "       pulse_oximeter_infrared_q50  pulse_oximeter_infrared_q75  \\\n",
       "count                 38289.000000                 38289.000000   \n",
       "mean                      9.352575                   115.855310   \n",
       "std                      34.316416                   503.688906   \n",
       "min                   -1229.049744                     2.647015   \n",
       "25%                      -1.538553                    41.977120   \n",
       "50%                       3.426422                    68.930470   \n",
       "75%                      16.247725                   110.747343   \n",
       "max                    3378.588013                 35130.878906   \n",
       "\n",
       "       pulse_oximeter_infrared_q95  pulse_oximeter_infrared_std  \\\n",
       "count                 38289.000000                 38289.000000   \n",
       "mean                   1415.890903                  1459.721512   \n",
       "std                    9560.034979                  8674.557793   \n",
       "min                       9.405673                     6.033838   \n",
       "25%                      83.368438                    58.815010   \n",
       "50%                     140.278486                    99.759605   \n",
       "75%                     236.576952                   170.259949   \n",
       "max                  472081.448438                297844.875000   \n",
       "\n",
       "       pulse_oximeter_infrared_var  \n",
       "count                 3.828900e+04  \n",
       "mean                  7.737677e+07  \n",
       "std                   1.170722e+09  \n",
       "min                   3.640720e+01  \n",
       "25%                   3.459205e+03  \n",
       "50%                   9.951979e+03  \n",
       "75%                   2.898845e+04  \n",
       "max                   8.871157e+10  \n",
       "\n",
       "[8 rows x 320 columns]"
      ]
     },
     "execution_count": 17,
     "metadata": {},
     "output_type": "execute_result"
    }
   ],
   "source": [
    "train_x.describe()"
   ]
  },
  {
   "cell_type": "code",
   "execution_count": 31,
   "metadata": {},
   "outputs": [
    {
     "data": {
      "text/plain": [
       "DecisionTreeClassifier(class_weight='balanced', criterion='gini',\n",
       "                       max_depth=None, max_features=None, max_leaf_nodes=None,\n",
       "                       min_impurity_decrease=0.0, min_impurity_split=None,\n",
       "                       min_samples_leaf=1, min_samples_split=2,\n",
       "                       min_weight_fraction_leaf=0.0, presort=False,\n",
       "                       random_state=None, splitter='best')"
      ]
     },
     "execution_count": 31,
     "metadata": {},
     "output_type": "execute_result"
    }
   ],
   "source": [
    "decision_tree = DecisionTreeClassifier(class_weight = \"balanced\")\n",
    "decision_tree.fit(train_x, train_y)"
   ]
  },
  {
   "cell_type": "code",
   "execution_count": 32,
   "metadata": {},
   "outputs": [
    {
     "data": {
      "text/plain": [
       "67"
      ]
     },
     "execution_count": 32,
     "metadata": {},
     "output_type": "execute_result"
    }
   ],
   "source": [
    "decision_tree.get_depth()"
   ]
  },
  {
   "cell_type": "code",
   "execution_count": 44,
   "metadata": {},
   "outputs": [
    {
     "name": "stderr",
     "output_type": "stream",
     "text": [
      "100%|██████████| 61/61 [1:18:55<00:00, 77.63s/it]\n"
     ]
    }
   ],
   "source": [
    "tree_depths = [x for x in range(10, 71)]\n",
    "cv_scores = []\n",
    "for depth in tqdm(tree_depths):\n",
    "    dt_class = DecisionTreeClassifier(max_depth = depth,\n",
    "                                     class_weight = \"balanced\")\n",
    "    cv_scores.append(cross_val_score(dt_class,\n",
    "                                    train_x, train_y,\n",
    "                                    scoring = make_scorer(f1_score, average = \"macro\"),\n",
    "                                    cv = 5))"
   ]
  },
  {
   "cell_type": "code",
   "execution_count": 47,
   "metadata": {},
   "outputs": [
    {
     "data": {
      "text/plain": [
       "[<matplotlib.lines.Line2D at 0x23e0167a388>]"
      ]
     },
     "execution_count": 47,
     "metadata": {},
     "output_type": "execute_result"
    },
    {
     "data": {
      "image/png": "[encoded data removed]",
      "text/plain": [
       "<Figure size 432x288 with 1 Axes>"
      ]
     },
     "metadata": {
      "needs_background": "light"
     },
     "output_type": "display_data"
    }
   ],
   "source": [
    "plt.plot(tree_depths, [np.mean(x) for x in cv_scores])"
   ]
  },
  {
   "cell_type": "code",
   "execution_count": 51,
   "metadata": {},
   "outputs": [
    {
     "data": {
      "text/plain": [
       "5"
      ]
     },
     "execution_count": 51,
     "metadata": {},
     "output_type": "execute_result"
    }
   ],
   "source": [
    "np.argmax([np.mean(x) for x in cv_scores])"
   ]
  },
  {
   "cell_type": "code",
   "execution_count": 54,
   "metadata": {},
   "outputs": [
    {
     "data": {
      "text/plain": [
       "DecisionTreeClassifier(class_weight='balanced', criterion='gini', max_depth=15,\n",
       "                       max_features=None, max_leaf_nodes=None,\n",
       "                       min_impurity_decrease=0.0, min_impurity_split=None,\n",
       "                       min_samples_leaf=1, min_samples_split=2,\n",
       "                       min_weight_fraction_leaf=0.0, presort=False,\n",
       "                       random_state=None, splitter='best')"
      ]
     },
     "execution_count": 54,
     "metadata": {},
     "output_type": "execute_result"
    }
   ],
   "source": [
    "depth_cv = 15\n",
    "dt_cv = DecisionTreeClassifier(max_depth = depth_cv,\n",
    "                                     class_weight = \"balanced\")\n",
    "dt_cv.fit(train_x, train_y)"
   ]
  },
  {
   "cell_type": "code",
   "execution_count": 70,
   "metadata": {},
   "outputs": [
    {
     "name": "stdout",
     "output_type": "stream",
     "text": [
      "Accuracy: 0.8397973308260859\n",
      "Precision: 0.7978785690940698\n",
      "Recall: 0.8970160424628532\n",
      "F1: 0.8349236764668262\n"
     ]
    }
   ],
   "source": [
    "from sklearn.metrics import accuracy_score, precision_score, recall_score\n",
    "train_pred_y = dt_cv.predict(train_x)\n",
    "print(\"Accuracy: \" + str(accuracy_score(train_y, train_pred_y)))\n",
    "print(\"Precision: \" + str(precision_score(train_y, train_pred_y, average = \"macro\")))\n",
    "print(\"Recall: \" + str(recall_score(train_y, train_pred_y, average = \"macro\")))\n",
    "print(\"F1: \" + str(f1_score(train_y, train_pred_y, average = \"macro\")))"
   ]
  },
  {
   "cell_type": "code",
   "execution_count": 101,
   "metadata": {},
   "outputs": [
    {
     "data": {
      "image/png": "[encoded data removed]",
      "text/plain": [
       "<Figure size 432x288 with 1 Axes>"
      ]
     },
     "metadata": {
      "needs_background": "light"
     },
     "output_type": "display_data"
    }
   ],
   "source": [
    "plt.hist(dt_cv.feature_importances_)\n",
    "plt.yscale(\"log\")"
   ]
  },
  {
   "cell_type": "code",
   "execution_count": 106,
   "metadata": {},
   "outputs": [
    {
     "data": {
      "text/plain": [
       "array([0, 1, 2, 3, 4], dtype=int64)"
      ]
     },
     "execution_count": 106,
     "metadata": {},
     "output_type": "execute_result"
    }
   ],
   "source": [
    "dt_cv.classes_"
   ]
  },
  {
   "cell_type": "code",
   "execution_count": 112,
   "metadata": {},
   "outputs": [
    {
     "name": "stdout",
     "output_type": "stream",
     "text": [
      "[[1.00000000e+00 3.41685649e-02 5.07536143e-03 1.47004778e-03\n",
      "  9.02708124e-03]\n",
      " [5.84966364e-04 1.00000000e+00 1.23039065e-03 1.83755972e-04\n",
      "  1.89457261e-03]\n",
      " [8.42351565e-02 4.05466970e-01 1.00000000e+00 2.37963984e-01\n",
      "  2.24116795e-01]\n",
      " [4.09476455e-03 2.88534548e-02 1.51491849e-02 1.00000000e+00\n",
      "  4.45781790e-03]\n",
      " [4.44574437e-02 2.13363705e-01 6.83635804e-02 2.92171996e-02\n",
      "  1.00000000e+00]]\n",
      "[[ 3419    45    66     8    81]\n",
      " [    2  1317    16     1    17]\n",
      " [  288   534 13004  1295  2011]\n",
      " [   14    38   197  5442    40]\n",
      " [  152   281   889   159  8973]]\n"
     ]
    }
   ],
   "source": [
    "from sklearn.metrics import confusion_matrix\n",
    "print(confusion_matrix(train_y, train_pred_y)/np.diag(confusion_matrix(train_y, train_pred_y)))\n",
    "print(confusion_matrix(train_y, train_pred_y))"
   ]
  },
  {
   "cell_type": "code",
   "execution_count": 127,
   "metadata": {},
   "outputs": [
    {
     "data": {
      "text/plain": [
       "<matplotlib.colorbar.Colorbar at 0x23e031a0d88>"
      ]
     },
     "execution_count": 127,
     "metadata": {},
     "output_type": "execute_result"
    },
    {
     "data": {
      "image/png": "[encoded data removed]",
      "text/plain": [
       "<Figure size 432x288 with 2 Axes>"
      ]
     },
     "metadata": {
      "needs_background": "light"
     },
     "output_type": "display_data"
    }
   ],
   "source": [
    "plt.imshow(confusion_matrix(train_y, train_pred_y)/np.sum(confusion_matrix(train_y, train_pred_y), axis = 1), cmap = \"plasma\")\n",
    "plt.colorbar()"
   ]
  },
  {
   "cell_type": "code",
   "execution_count": 125,
   "metadata": {},
   "outputs": [
    {
     "data": {
      "text/plain": [
       "array([ 3619,  1353, 17132,  5731, 10454], dtype=int64)"
      ]
     },
     "execution_count": 125,
     "metadata": {},
     "output_type": "execute_result"
    }
   ],
   "source": [
    "np.sum(confusion_matrix(train_y, train_pred_y), axis = 1)"
   ]
  },
  {
   "cell_type": "code",
   "execution_count": 124,
   "metadata": {},
   "outputs": [
    {
     "data": {
      "text/plain": [
       "3619"
      ]
     },
     "execution_count": 124,
     "metadata": {},
     "output_type": "execute_result"
    }
   ],
   "source": [
    "3419+45+66+8+81"
   ]
  },
  {
   "cell_type": "markdown",
   "metadata": {},
   "source": [
    "# Prediction"
   ]
  },
  {
   "cell_type": "code",
   "execution_count": 87,
   "metadata": {},
   "outputs": [],
   "source": [
    "test_x = pd.read_csv(\"../DreemSleepStageClassificationChallengeData/dreem-sleep-stages/test_x.csv\",\n",
    "                     index_col = \"id\")"
   ]
  },
  {
   "cell_type": "code",
   "execution_count": 94,
   "metadata": {},
   "outputs": [],
   "source": [
    "test_pred_y = dt_cv.predict(test_x)"
   ]
  },
  {
   "cell_type": "code",
   "execution_count": 95,
   "metadata": {},
   "outputs": [],
   "source": [
    "test_pred_y = pd.DataFrame({\"sleep_stage\": test_pred_y})\n",
    "test_pred_y.index.name = \"id\""
   ]
  },
  {
   "cell_type": "code",
   "execution_count": 97,
   "metadata": {},
   "outputs": [
    {
     "data": {
      "text/html": [
       "<div>\n",
       "<style scoped>\n",
       "    .dataframe tbody tr th:only-of-type {\n",
       "        vertical-align: middle;\n",
       "    }\n",
       "\n",
       "    .dataframe tbody tr th {\n",
       "        vertical-align: top;\n",
       "    }\n",
       "\n",
       "    .dataframe thead th {\n",
       "        text-align: right;\n",
       "    }\n",
       "</style>\n",
       "<table border=\"1\" class=\"dataframe\">\n",
       "  <thead>\n",
       "    <tr style=\"text-align: right;\">\n",
       "      <th></th>\n",
       "      <th>sleep_stage</th>\n",
       "    </tr>\n",
       "    <tr>\n",
       "      <th>id</th>\n",
       "      <th></th>\n",
       "    </tr>\n",
       "  </thead>\n",
       "  <tbody>\n",
       "    <tr>\n",
       "      <td>0</td>\n",
       "      <td>4</td>\n",
       "    </tr>\n",
       "    <tr>\n",
       "      <td>1</td>\n",
       "      <td>1</td>\n",
       "    </tr>\n",
       "    <tr>\n",
       "      <td>2</td>\n",
       "      <td>4</td>\n",
       "    </tr>\n",
       "    <tr>\n",
       "      <td>3</td>\n",
       "      <td>4</td>\n",
       "    </tr>\n",
       "    <tr>\n",
       "      <td>4</td>\n",
       "      <td>4</td>\n",
       "    </tr>\n",
       "    <tr>\n",
       "      <td>...</td>\n",
       "      <td>...</td>\n",
       "    </tr>\n",
       "    <tr>\n",
       "      <td>37434</td>\n",
       "      <td>0</td>\n",
       "    </tr>\n",
       "    <tr>\n",
       "      <td>37435</td>\n",
       "      <td>4</td>\n",
       "    </tr>\n",
       "    <tr>\n",
       "      <td>37436</td>\n",
       "      <td>4</td>\n",
       "    </tr>\n",
       "    <tr>\n",
       "      <td>37437</td>\n",
       "      <td>2</td>\n",
       "    </tr>\n",
       "    <tr>\n",
       "      <td>37438</td>\n",
       "      <td>4</td>\n",
       "    </tr>\n",
       "  </tbody>\n",
       "</table>\n",
       "<p>37439 rows × 1 columns</p>\n",
       "</div>"
      ],
      "text/plain": [
       "       sleep_stage\n",
       "id                \n",
       "0                4\n",
       "1                1\n",
       "2                4\n",
       "3                4\n",
       "4                4\n",
       "...            ...\n",
       "37434            0\n",
       "37435            4\n",
       "37436            4\n",
       "37437            2\n",
       "37438            4\n",
       "\n",
       "[37439 rows x 1 columns]"
      ]
     },
     "execution_count": 97,
     "metadata": {},
     "output_type": "execute_result"
    }
   ],
   "source": [
    "test_pred_y"
   ]
  },
  {
   "cell_type": "code",
   "execution_count": 98,
   "metadata": {},
   "outputs": [],
   "source": [
    "test_pred_y.to_csv(\"../DreemSleepStageClassificationChallengeData/dreem-sleep-stages/test_pred_y_dt.csv\")"
   ]
  },
  {
   "cell_type": "code",
   "execution_count": null,
   "metadata": {},
   "outputs": [],
   "source": []
  }
 ],
 "metadata": {
  "kernelspec": {
   "display_name": "Python 3",
   "language": "python",
   "name": "python3"
  },
  "language_info": {
   "codemirror_mode": {
    "name": "ipython",
    "version": 3
   },
   "file_extension": ".py",
   "mimetype": "text/x-python",
   "name": "python",
   "nbconvert_exporter": "python",
   "pygments_lexer": "ipython3",
   "version": "3.7.4"
  }
 },
 "nbformat": 4,
 "nbformat_minor": 4
}
