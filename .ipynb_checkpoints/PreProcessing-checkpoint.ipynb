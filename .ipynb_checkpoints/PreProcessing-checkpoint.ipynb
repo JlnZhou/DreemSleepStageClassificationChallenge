{
 "cells": [
  {
   "cell_type": "markdown",
   "metadata": {},
   "source": [
    "Data fields\n",
    "The data is separated between the differents signals recorded by the Dreem headband. Signal is shapes in windows of 30 seconds.\n",
    "\n",
    "Electroencephalogram is measured at 7 differents locations of the head (eeg_1 -> eeg_7). The sampling frequency is 50 Hz.\n",
    "\n",
    "Pulse oximeter (pulse_oximeter_infrared) and acceleromter (accelerometer_[x/y/z]) channels are sampled at 10Hz\n",
    "\n",
    "eeg_1 - EEG in frontal position sampled at 50 Hz -> 1500 values\n",
    "eeg_2 - EEG in frontal position sampled at 50 Hz -> 1500 values\n",
    "eeg_3 - EEG in frontal position sampled at 50 Hz -> 1500 values\n",
    "eeg_4 - EEG in frontal-occipital position sampled at 50 Hz -> 1500 values\n",
    "eeg_5 - EEG in frontal-occipital position sampled at 50 Hz -> 1500 values\n",
    "eeg_6 - EEG in frontal-occipital position sampled at 50 Hz -> 1500 values\n",
    "eeg_7 - EEG in frontal-occipital position sampled at 50 Hz -> 1500 values\n",
    "accelerometer_x - Accelerometer along x axis sampled at 10 Hz -> 300 values\n",
    "accelerometer_y - Accelerometer along y axis sampled at 10 Hz -> 300 values\n",
    "accelerometer_z - Accelerometer along z axis sampled at 10 Hz -> 300 values\n",
    "pulse_oximeter_infrared - Pulse oximeter infrared channel sampled at 10 Hz -> 300 values"
   ]
  },
  {
   "cell_type": "markdown",
   "metadata": {},
   "source": [
    "Filtrage des signaux avec critère de Nyquist et décomposition des EEG en bandes de fréquence."
   ]
  },
  {
   "cell_type": "code",
   "execution_count": 1,
   "metadata": {},
   "outputs": [],
   "source": [
    "import h5py\n",
    "from scipy import signal\n",
    "from tqdm import tqdm"
   ]
  },
  {
   "cell_type": "code",
   "execution_count": 2,
   "metadata": {},
   "outputs": [],
   "source": [
    "train = h5py.File(\"../DreemSleepStageClassificationChallengeData/dreem-sleep-stages/train.h5\", \"r\")\n",
    "train_pp = h5py.File(\"../DreemSleepStageClassificationChallengeData/dreem-sleep-stages/train_pp.h5\", \"w\")\n",
    "test = h5py.File(\"../DreemSleepStageClassificationChallengeData/dreem-sleep-stages/test.h5\", \"r\")\n",
    "test_pp = h5py.File(\"../DreemSleepStageClassificationChallengeData/dreem-sleep-stages/test_pp.h5\", \"w\")"
   ]
  },
  {
   "cell_type": "code",
   "execution_count": 3,
   "metadata": {},
   "outputs": [
    {
     "data": {
      "text/plain": [
       "['accelerometer_x',\n",
       " 'accelerometer_y',\n",
       " 'accelerometer_z',\n",
       " 'eeg_1',\n",
       " 'eeg_2',\n",
       " 'eeg_3',\n",
       " 'eeg_4',\n",
       " 'eeg_5',\n",
       " 'eeg_6',\n",
       " 'eeg_7',\n",
       " 'pulse_oximeter_infrared']"
      ]
     },
     "execution_count": 3,
     "metadata": {},
     "output_type": "execute_result"
    }
   ],
   "source": [
    "list(train.keys())"
   ]
  },
  {
   "cell_type": "markdown",
   "metadata": {},
   "source": [
    "On laisse les données d'accéléromètre et oxymetre telles quelles."
   ]
  },
  {
   "cell_type": "code",
   "execution_count": 4,
   "metadata": {},
   "outputs": [
    {
     "data": {
      "text/plain": [
       "(38289, 300)"
      ]
     },
     "execution_count": 4,
     "metadata": {},
     "output_type": "execute_result"
    }
   ],
   "source": [
    "train['accelerometer_x'].shape"
   ]
  },
  {
   "cell_type": "code",
   "execution_count": 5,
   "metadata": {},
   "outputs": [
    {
     "name": "stdout",
     "output_type": "stream",
     "text": [
      "accelerometer_x\n"
     ]
    },
    {
     "name": "stderr",
     "output_type": "stream",
     "text": [
      "100%|██████████| 38289/38289 [10:54<00:00, 58.50it/s] \n"
     ]
    },
    {
     "name": "stdout",
     "output_type": "stream",
     "text": [
      "accelerometer_y\n"
     ]
    },
    {
     "name": "stderr",
     "output_type": "stream",
     "text": [
      "100%|██████████| 38289/38289 [09:35<00:00, 66.53it/s] \n"
     ]
    },
    {
     "name": "stdout",
     "output_type": "stream",
     "text": [
      "accelerometer_z\n"
     ]
    },
    {
     "name": "stderr",
     "output_type": "stream",
     "text": [
      "100%|██████████| 38289/38289 [13:49<00:00, 46.15it/s] \n"
     ]
    },
    {
     "name": "stdout",
     "output_type": "stream",
     "text": [
      "pulse_oximeter_infrared\n"
     ]
    },
    {
     "name": "stderr",
     "output_type": "stream",
     "text": [
      "100%|██████████| 38289/38289 [13:36<00:00, 46.89it/s] \n"
     ]
    }
   ],
   "source": [
    "for key in ['accelerometer_x',\n",
    "            'accelerometer_y',\n",
    "            'accelerometer_z',\n",
    "            'pulse_oximeter_infrared']:\n",
    "    print(key)\n",
    "    current_shape = train[key].shape\n",
    "    train_pp.create_dataset(key, shape = current_shape)\n",
    "    for i in tqdm(range(current_shape[0])):\n",
    "        train_pp[key][i] = train[key][i]"
   ]
  },
  {
   "cell_type": "code",
   "execution_count": 6,
   "metadata": {},
   "outputs": [
    {
     "name": "stdout",
     "output_type": "stream",
     "text": [
      "accelerometer_x\n"
     ]
    },
    {
     "name": "stderr",
     "output_type": "stream",
     "text": [
      "100%|██████████| 37439/37439 [24:46<00:00, 25.19it/s]  \n"
     ]
    },
    {
     "name": "stdout",
     "output_type": "stream",
     "text": [
      "accelerometer_y\n"
     ]
    },
    {
     "name": "stderr",
     "output_type": "stream",
     "text": [
      "100%|██████████| 37439/37439 [24:44<00:00, 25.23it/s]  \n"
     ]
    },
    {
     "name": "stdout",
     "output_type": "stream",
     "text": [
      "accelerometer_z\n"
     ]
    },
    {
     "name": "stderr",
     "output_type": "stream",
     "text": [
      "100%|██████████| 37439/37439 [27:20<00:00, 22.82it/s]  \n"
     ]
    },
    {
     "name": "stdout",
     "output_type": "stream",
     "text": [
      "pulse_oximeter_infrared\n"
     ]
    },
    {
     "name": "stderr",
     "output_type": "stream",
     "text": [
      "100%|██████████| 37439/37439 [24:15<00:00, 25.72it/s]  \n"
     ]
    }
   ],
   "source": [
    "for key in ['accelerometer_x',\n",
    "            'accelerometer_y',\n",
    "            'accelerometer_z',\n",
    "            'pulse_oximeter_infrared']:\n",
    "    print(key)\n",
    "    current_shape = test[key].shape\n",
    "    test_pp.create_dataset(key, shape = current_shape)\n",
    "    for i in tqdm(range(current_shape[0])):\n",
    "        test_pp[key][i] = test[key][i]"
   ]
  },
  {
   "cell_type": "code",
   "execution_count": 7,
   "metadata": {},
   "outputs": [],
   "source": [
    "train.close()\n",
    "train_pp.close()\n",
    "test.close()\n",
    "test_pp.close()"
   ]
  },
  {
   "cell_type": "markdown",
   "metadata": {},
   "source": [
    "ICI!!"
   ]
  },
  {
   "cell_type": "markdown",
   "metadata": {},
   "source": [
    "On décompose les signaux EEG en différentes bandes:\n",
    "- delta: 0-4 Hz\n",
    "- Theta: 4-8 Hz\n",
    "- Alpha: 8-13 Hz\n",
    "- Beta: 13-22 Hz\n",
    "- Gamme: > 30 Hz."
   ]
  },
  {
   "cell_type": "markdown",
   "metadata": {},
   "source": [
    "Delta"
   ]
  },
  {
   "cell_type": "code",
   "execution_count": 5,
   "metadata": {},
   "outputs": [],
   "source": [
    "N, Wn = signal.buttord(wp = 4,\n",
    "                       ws = 5, \n",
    "                       gpass = 3, \n",
    "                       gstop = 40, \n",
    "                       analog = False,\n",
    "                       fs = 50)\n",
    "sos = signal.butter(N, Wn, \n",
    "                    'lowpass', \n",
    "                    analog = False,\n",
    "                    output='sos',\n",
    "                   fs = 50)"
   ]
  },
  {
   "cell_type": "code",
   "execution_count": null,
   "metadata": {},
   "outputs": [],
   "source": [
    "num_eeg = 7\n",
    "for i in range(num_eeg):\n",
    "    current_eeg = 'eeg_' + str(i+1)\n",
    "    current_shape = train[current_eeg].shape\n",
    "    train_pp.create_dataset(current_eeg + \"_delta\", \n",
    "                            data = signal.sosfilt(sos, train[current_eeg]))"
   ]
  },
  {
   "cell_type": "code",
   "execution_count": null,
   "metadata": {},
   "outputs": [],
   "source": [
    "num_eeg = 7\n",
    "for i in range(num_eeg):\n",
    "    current_eeg = 'eeg_' + str(i+1)\n",
    "    current_shape = test[current_eeg].shape\n",
    "    test_pp.create_dataset(current_eeg + \"_delta\", \n",
    "                            data = signal.sosfilt(sos, test[current_eeg]))"
   ]
  },
  {
   "cell_type": "markdown",
   "metadata": {},
   "source": [
    "Theta 4 8"
   ]
  },
  {
   "cell_type": "code",
   "execution_count": null,
   "metadata": {},
   "outputs": [],
   "source": [
    "N, Wn = signal.buttord(wp = [4, 8],\n",
    "                       ws = [3, 9], \n",
    "                       gpass = 3, \n",
    "                       gstop = 40, \n",
    "                       analog = False,\n",
    "                       fs = 50)\n",
    "sos = signal.butter(N, Wn, \n",
    "                    'bandpass', \n",
    "                    analog = False,\n",
    "                    output='sos',\n",
    "                   fs = 50)"
   ]
  },
  {
   "cell_type": "code",
   "execution_count": null,
   "metadata": {},
   "outputs": [],
   "source": [
    "num_eeg = 7\n",
    "for i in range(num_eeg):\n",
    "    current_eeg = 'eeg_' + str(i+1)\n",
    "    current_shape = train[current_eeg].shape\n",
    "    train_pp.create_dataset(current_eeg + \"_theta\", \n",
    "                            data = signal.sosfilt(sos, train[current_eeg]))"
   ]
  },
  {
   "cell_type": "code",
   "execution_count": null,
   "metadata": {},
   "outputs": [],
   "source": [
    "num_eeg = 7\n",
    "for i in range(num_eeg):\n",
    "    current_eeg = 'eeg_' + str(i+1)\n",
    "    current_shape = test[current_eeg].shape\n",
    "    test_pp.create_dataset(current_eeg + \"_theta\", \n",
    "                            data = signal.sosfilt(sos, test[current_eeg]))"
   ]
  },
  {
   "cell_type": "markdown",
   "metadata": {},
   "source": [
    "alpha 8-13"
   ]
  },
  {
   "cell_type": "code",
   "execution_count": null,
   "metadata": {},
   "outputs": [],
   "source": [
    "N, Wn = signal.buttord(wp = [8, 13],\n",
    "                       ws = [7, 14], \n",
    "                       gpass = 3, \n",
    "                       gstop = 40, \n",
    "                       analog = False,\n",
    "                       fs = 50)\n",
    "sos = signal.butter(N, Wn, \n",
    "                    'bandpass', \n",
    "                    analog = False,\n",
    "                    output='sos',\n",
    "                   fs = 50)"
   ]
  },
  {
   "cell_type": "code",
   "execution_count": null,
   "metadata": {},
   "outputs": [],
   "source": [
    "num_eeg = 7\n",
    "for i in range(num_eeg):\n",
    "    current_eeg = 'eeg_' + str(i+1)\n",
    "    current_shape = train[current_eeg].shape\n",
    "    train_pp.create_dataset(current_eeg + \"_alpha\", \n",
    "                            data = signal.sosfilt(sos, train[current_eeg]))"
   ]
  },
  {
   "cell_type": "code",
   "execution_count": null,
   "metadata": {},
   "outputs": [],
   "source": [
    "num_eeg = 7\n",
    "for i in range(num_eeg):\n",
    "    current_eeg = 'eeg_' + str(i+1)\n",
    "    current_shape = test[current_eeg].shape\n",
    "    test_pp.create_dataset(current_eeg + \"_alpha\", \n",
    "                            data = signal.sosfilt(sos, test[current_eeg]))"
   ]
  },
  {
   "cell_type": "markdown",
   "metadata": {},
   "source": [
    "beta 13 22 "
   ]
  },
  {
   "cell_type": "code",
   "execution_count": null,
   "metadata": {},
   "outputs": [],
   "source": [
    "N, Wn = signal.buttord(wp = [13, 22],\n",
    "                       ws = [12, 23], \n",
    "                       gpass = 3, \n",
    "                       gstop = 40, \n",
    "                       analog = False,\n",
    "                       fs = 50)\n",
    "sos = signal.butter(N, Wn, \n",
    "                    'bandpass', \n",
    "                    analog = False,\n",
    "                    output='sos',\n",
    "                   fs = 50)"
   ]
  },
  {
   "cell_type": "code",
   "execution_count": null,
   "metadata": {},
   "outputs": [],
   "source": [
    "num_eeg = 7\n",
    "for i in range(num_eeg):\n",
    "    current_eeg = 'eeg_' + str(i+1)\n",
    "    current_shape = train[current_eeg].shape\n",
    "    train_pp.create_dataset(current_eeg + \"_beta\", \n",
    "                            data = signal.sosfilt(sos, train[current_eeg]))"
   ]
  },
  {
   "cell_type": "code",
   "execution_count": null,
   "metadata": {},
   "outputs": [],
   "source": [
    "num_eeg = 7\n",
    "for i in range(num_eeg):\n",
    "    current_eeg = 'eeg_' + str(i+1)\n",
    "    current_shape = test[current_eeg].shape\n",
    "    test_pp.create_dataset(current_eeg + \"_beta\", \n",
    "                            data = signal.sosfilt(sos, test[current_eeg]))"
   ]
  },
  {
   "cell_type": "code",
   "execution_count": null,
   "metadata": {},
   "outputs": [],
   "source": [
    "train.close()\n",
    "train_pp.close()\n",
    "test.close()\n",
    "test_pp.close()"
   ]
  },
  {
   "cell_type": "code",
   "execution_count": null,
   "metadata": {},
   "outputs": [],
   "source": []
  }
 ],
 "metadata": {
  "kernelspec": {
   "display_name": "Python 3",
   "language": "python",
   "name": "python3"
  },
  "language_info": {
   "codemirror_mode": {
    "name": "ipython",
    "version": 3
   },
   "file_extension": ".py",
   "mimetype": "text/x-python",
   "name": "python",
   "nbconvert_exporter": "python",
   "pygments_lexer": "ipython3",
   "version": "3.7.4"
  }
 },
 "nbformat": 4,
 "nbformat_minor": 4
}
