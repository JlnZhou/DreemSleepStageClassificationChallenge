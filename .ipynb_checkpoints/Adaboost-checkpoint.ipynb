{
 "cells": [
  {
   "cell_type": "code",
   "execution_count": 1,
   "metadata": {},
   "outputs": [],
   "source": [
    "import pandas as pd\n",
    "import numpy as np\n",
    "import matplotlib.pyplot as plt\n",
    "from tqdm import tqdm"
   ]
  },
  {
   "cell_type": "code",
   "execution_count": 2,
   "metadata": {},
   "outputs": [],
   "source": [
    "train_x = pd.read_csv(\"../DreemSleepStageClassificationChallengeData/dreem-sleep-stages/train_x.csv\",\n",
    "                     index_col = \"id\")\n",
    "train_y = pd.read_csv(\"../DreemSleepStageClassificationChallengeData/dreem-sleep-stages/train_y.csv\",\n",
    "                     index_col = \"id\")"
   ]
  },
  {
   "cell_type": "code",
   "execution_count": 3,
   "metadata": {},
   "outputs": [],
   "source": [
    "from sklearn.model_selection import cross_val_score\n",
    "from sklearn.tree import DecisionTreeClassifier\n",
    "from sklearn.ensemble import AdaBoostClassifier\n",
    "from sklearn.metrics import make_scorer\n",
    "from sklearn.metrics import f1_score"
   ]
  },
  {
   "cell_type": "markdown",
   "metadata": {},
   "source": [
    "- decision tree max depth 1\n",
    "- n_estimators 50\n",
    "- learning rate 1"
   ]
  },
  {
   "cell_type": "code",
   "execution_count": null,
   "metadata": {},
   "outputs": [],
   "source": [
    "base_tree = DecisionTreeClassifier(max_depth = 1,\n",
    "                                   class_weight = \"balanced\")\n",
    "adaboost = AdaBoostClassifier(base_estimator = base_tree)\n",
    "adaboost.fit(train_x, np.ravel(train_y))"
   ]
  },
  {
   "cell_type": "code",
   "execution_count": null,
   "metadata": {},
   "outputs": [],
   "source": [
    "adaboost.score(train_x, np.ravel(train_y))"
   ]
  },
  {
   "cell_type": "code",
   "execution_count": null,
   "metadata": {},
   "outputs": [],
   "source": [
    "cv_scores = []\n",
    "lr_cv = np.arange(0.1, 1.1, 0.1)\n",
    "for rate in tqdm(lr_cv):\n",
    "    base_tree = DecisionTreeClassifier(class_weight = \"balanced\")\n",
    "    adb_class = AdaBoostClassifier(base_estimator = base_tree,\n",
    "                                  learning_rate = rate)\n",
    "    cv_scores.append(cross_val_score(adb_class,\n",
    "                                    train_x, np.ravel(train_y),\n",
    "                                    scoring = make_scorer(f1_score, average = \"macro\"),\n",
    "                                    cv = 5))"
   ]
  },
  {
   "cell_type": "code",
   "execution_count": null,
   "metadata": {},
   "outputs": [],
   "source": [
    "plt.plot(lr_cv, [np.mean(x) for x in cv_scores])"
   ]
  },
  {
   "cell_type": "code",
   "execution_count": null,
   "metadata": {},
   "outputs": [],
   "source": [
    "cv_scores = []\n",
    "lr_cv = 0.6\n",
    "n_estim = np.arange(5, 101, 5)\n",
    "for n in tqdm(n_estim):\n",
    "    base_tree = DecisionTreeClassifier(class_weight = \"balanced\")\n",
    "    adb_class = AdaBoostClassifier(base_estimator = base_tree,\n",
    "                                  learning_rate = lr_cv,\n",
    "                                  n_estimators = n)\n",
    "    cv_scores.append(cross_val_score(adb_class,\n",
    "                                    train_x, np.ravel(train_y),\n",
    "                                    scoring = make_scorer(f1_score, average = \"macro\"),\n",
    "                                    cv = 5))"
   ]
  },
  {
   "cell_type": "code",
   "execution_count": null,
   "metadata": {},
   "outputs": [],
   "source": [
    "plt.plot(n_estim, [np.mean(x) for x in cv_scores])"
   ]
  },
  {
   "cell_type": "code",
   "execution_count": null,
   "metadata": {},
   "outputs": [],
   "source": [
    "cv_scores = []\n",
    "lr_cv = 0.6\n",
    "n_estim = np.arange(50, 151, 5)\n",
    "for n in tqdm(n_estim):\n",
    "    base_tree = DecisionTreeClassifier(class_weight = \"balanced\")\n",
    "    adb_class = AdaBoostClassifier(base_estimator = base_tree,\n",
    "                                  learning_rate = lr_cv,\n",
    "                                  n_estimators = n)\n",
    "    cv_scores.append(cross_val_score(adb_class,\n",
    "                                    train_x, np.ravel(train_y),\n",
    "                                    scoring = make_scorer(f1_score, average = \"macro\"),\n",
    "                                    cv = 5))"
   ]
  },
  {
   "cell_type": "code",
   "execution_count": 33,
   "metadata": {},
   "outputs": [
    {
     "data": {
      "text/plain": [
       "[<matplotlib.lines.Line2D at 0x1ecb9ad8348>]"
      ]
     },
     "execution_count": 33,
     "metadata": {},
     "output_type": "execute_result"
    },
    {
     "data": {
      "image/png": "[encoded data removed]",
      "text/plain": [
       "<Figure size 432x288 with 1 Axes>"
      ]
     },
     "metadata": {
      "needs_background": "light"
     },
     "output_type": "display_data"
    }
   ],
   "source": [
    "plt.plot(n_estim, [np.mean(x) for x in cv_scores])"
   ]
  },
  {
   "cell_type": "code",
   "execution_count": 40,
   "metadata": {},
   "outputs": [
    {
     "name": "stderr",
     "output_type": "stream",
     "text": [
      "\n",
      "\n",
      "\n",
      "\n",
      "\n",
      "\n",
      "\n",
      "  0%|          | 0/4 [00:00<?, ?it/s]\n",
      "\n",
      "\n",
      "\n",
      "\n",
      "\n",
      "\n",
      " 25%|██▌       | 1/4 [35:46<1:47:20, 2146.91s/it]\n",
      "\n",
      "\n",
      "\n",
      "\n",
      "\n",
      "\n",
      " 50%|█████     | 2/4 [1:41:16<1:29:23, 2681.64s/it]\n",
      "\n",
      "\n",
      "\n",
      "\n",
      "\n",
      "\n",
      " 75%|███████▌  | 3/4 [2:57:53<54:16, 3256.38s/it]  \n",
      "\n",
      "\n",
      "\n",
      "\n",
      "\n",
      "\n",
      "100%|██████████| 4/4 [4:11:25<00:00, 3771.34s/it]\n"
     ]
    }
   ],
   "source": [
    "tree_depths = np.arange(5, 21, 5)\n",
    "n_estim = 65\n",
    "cv_scores = []\n",
    "for depth in tqdm(tree_depths):\n",
    "    base_tree = DecisionTreeClassifier(max_depth = depth,\n",
    "                                   class_weight = \"balanced\")\n",
    "    adb_class = AdaBoostClassifier(base_estimator = base_tree,\n",
    "                                      learning_rate = lr_cv,\n",
    "                                  n_estimators = n_estim)\n",
    "    cv_scores.append(cross_val_score(adb_class,\n",
    "                                    train_x, np.ravel(train_y),\n",
    "                                    scoring = make_scorer(f1_score, average = \"macro\"),\n",
    "                                    cv = 5))"
   ]
  },
  {
   "cell_type": "code",
   "execution_count": 43,
   "metadata": {},
   "outputs": [
    {
     "data": {
      "text/plain": [
       "[<matplotlib.lines.Line2D at 0x1ecb9b41108>]"
      ]
     },
     "execution_count": 43,
     "metadata": {},
     "output_type": "execute_result"
    },
    {
     "data": {
      "image/png": "[encoded data removed]",
      "text/plain": [
       "<Figure size 432x288 with 1 Axes>"
      ]
     },
     "metadata": {
      "needs_background": "light"
     },
     "output_type": "display_data"
    }
   ],
   "source": [
    "plt.plot(tree_depths, [np.mean(x) for x in cv_scores])"
   ]
  },
  {
   "cell_type": "code",
   "execution_count": 44,
   "metadata": {},
   "outputs": [
    {
     "name": "stderr",
     "output_type": "stream",
     "text": [
      "\n",
      "\n",
      "\n",
      "\n",
      "\n",
      "\n",
      "\n",
      "  0%|          | 0/7 [00:00<?, ?it/s]\n",
      "\n",
      "\n",
      "\n",
      "\n",
      "\n",
      "\n",
      " 14%|█▍        | 1/7 [1:15:24<7:32:27, 4524.66s/it]\n",
      "\n",
      "\n",
      "\n",
      "\n",
      "\n",
      "\n",
      " 29%|██▊       | 2/7 [2:35:00<6:23:20, 4600.03s/it]\n",
      "\n",
      "\n",
      "\n",
      "\n",
      "\n",
      "\n",
      " 43%|████▎     | 3/7 [4:06:17<5:24:12, 4863.07s/it]\n",
      "\n",
      "\n",
      "\n",
      "\n",
      "\n",
      "\n",
      " 57%|█████▋    | 4/7 [5:33:52<4:09:01, 4980.56s/it]\n",
      "\n",
      "\n",
      "\n",
      "\n",
      "\n",
      "\n",
      " 71%|███████▏  | 5/7 [7:05:07<2:50:57, 5128.87s/it]\n",
      "\n",
      "\n",
      "\n",
      "\n",
      "\n",
      "\n",
      " 86%|████████▌ | 6/7 [8:39:49<1:28:14, 5294.92s/it]\n",
      "\n",
      "\n",
      "\n",
      "\n",
      "\n",
      "\n",
      "100%|██████████| 7/7 [9:22:07<00:00, 4818.27s/it]  \n"
     ]
    }
   ],
   "source": [
    "tree_depths = np.arange(20, 51, 5)\n",
    "n_estim = 65\n",
    "cv_scores = []\n",
    "for depth in tqdm(tree_depths):\n",
    "    base_tree = DecisionTreeClassifier(max_depth = depth,\n",
    "                                   class_weight = \"balanced\")\n",
    "    adb_class = AdaBoostClassifier(base_estimator = base_tree,\n",
    "                                      learning_rate = lr_cv,\n",
    "                                  n_estimators = n_estim)\n",
    "    cv_scores.append(cross_val_score(adb_class,\n",
    "                                    train_x, np.ravel(train_y),\n",
    "                                    scoring = make_scorer(f1_score, average = \"macro\"),\n",
    "                                    cv = 5))"
   ]
  },
  {
   "cell_type": "code",
   "execution_count": 46,
   "metadata": {},
   "outputs": [
    {
     "data": {
      "text/plain": [
       "[<matplotlib.lines.Line2D at 0x1ecb9b9cdc8>]"
      ]
     },
     "execution_count": 46,
     "metadata": {},
     "output_type": "execute_result"
    },
    {
     "data": {
      "image/png": "[encoded data removed]",
      "text/plain": [
       "<Figure size 432x288 with 1 Axes>"
      ]
     },
     "metadata": {
      "needs_background": "light"
     },
     "output_type": "display_data"
    }
   ],
   "source": [
    "plt.plot(tree_depths, [np.mean(x) for x in cv_scores])"
   ]
  },
  {
   "cell_type": "code",
   "execution_count": 4,
   "metadata": {},
   "outputs": [
    {
     "name": "stderr",
     "output_type": "stream",
     "text": [
      "100%|██████████| 10/10 [11:35:02<00:00, 4170.29s/it] \n"
     ]
    }
   ],
   "source": [
    "cv_scores = []\n",
    "depth_cv = 40\n",
    "lr_cv = np.arange(0.1, 1.1, 0.1)\n",
    "for rate in tqdm(lr_cv):\n",
    "    base_tree = DecisionTreeClassifier(max_depth = depth_cv,\n",
    "                                       class_weight = \"balanced\")\n",
    "    adb_class = AdaBoostClassifier(base_estimator = base_tree,\n",
    "                                  learning_rate = rate)\n",
    "    cv_scores.append(cross_val_score(adb_class,\n",
    "                                    train_x, np.ravel(train_y),\n",
    "                                    scoring = make_scorer(f1_score, average = \"macro\"),\n",
    "                                    cv = 5))"
   ]
  },
  {
   "cell_type": "code",
   "execution_count": 5,
   "metadata": {},
   "outputs": [
    {
     "data": {
      "text/plain": [
       "[0.6086733340919963,\n",
       " 0.5957559960946958,\n",
       " 0.5811423442490926,\n",
       " 0.5658750054146298,\n",
       " 0.5734969953265651,\n",
       " 0.5739589996630086,\n",
       " 0.5629457723402923,\n",
       " 0.562542769451552,\n",
       " 0.5518889019852979,\n",
       " 0.5496431385296556]"
      ]
     },
     "execution_count": 5,
     "metadata": {},
     "output_type": "execute_result"
    }
   ],
   "source": [
    "[np.mean(x) for x in cv_scores]"
   ]
  },
  {
   "cell_type": "code",
   "execution_count": 6,
   "metadata": {},
   "outputs": [
    {
     "data": {
      "text/plain": [
       "[<matplotlib.lines.Line2D at 0x2218cf92c48>]"
      ]
     },
     "execution_count": 6,
     "metadata": {},
     "output_type": "execute_result"
    },
    {
     "data": {
      "image/png": "[encoded data removed]",
      "text/plain": [
       "<Figure size 432x288 with 1 Axes>"
      ]
     },
     "metadata": {
      "needs_background": "light"
     },
     "output_type": "display_data"
    }
   ],
   "source": [
    "plt.plot(lr_cv, [np.mean(x) for x in cv_scores])"
   ]
  },
  {
   "cell_type": "code",
   "execution_count": 7,
   "metadata": {},
   "outputs": [
    {
     "name": "stderr",
     "output_type": "stream",
     "text": [
      " 55%|█████▌    | 11/20 [8:44:37<10:27:49, 4185.55s/it]ERROR:root:Internal Python error in the inspect module.\n",
      "Below is the traceback from this internal error.\n",
      "\n"
     ]
    },
    {
     "name": "stdout",
     "output_type": "stream",
     "text": [
      "Traceback (most recent call last):\n",
      "  File \"C:\\Users\\zhouj\\Anaconda3\\lib\\site-packages\\IPython\\core\\interactiveshell.py\", line 3326, in run_code\n",
      "    exec(code_obj, self.user_global_ns, self.user_ns)\n",
      "  File \"<ipython-input-7-bf6376372eb8>\", line 14, in <module>\n",
      "    cv = 5))\n",
      "  File \"C:\\Users\\zhouj\\Anaconda3\\lib\\site-packages\\sklearn\\utils\\validation.py\", line 63, in inner_f\n",
      "    return f(*args, **kwargs)\n",
      "  File \"C:\\Users\\zhouj\\Anaconda3\\lib\\site-packages\\sklearn\\model_selection\\_validation.py\", line 445, in cross_val_score\n",
      "    error_score=error_score)\n",
      "  File \"C:\\Users\\zhouj\\Anaconda3\\lib\\site-packages\\sklearn\\utils\\validation.py\", line 63, in inner_f\n",
      "    return f(*args, **kwargs)\n",
      "  File \"C:\\Users\\zhouj\\Anaconda3\\lib\\site-packages\\sklearn\\model_selection\\_validation.py\", line 252, in cross_validate\n",
      "    for train, test in cv.split(X, y, groups))\n",
      "  File \"C:\\Users\\zhouj\\Anaconda3\\lib\\site-packages\\joblib\\parallel.py\", line 921, in __call__\n",
      "    if self.dispatch_one_batch(iterator):\n",
      "  File \"C:\\Users\\zhouj\\Anaconda3\\lib\\site-packages\\joblib\\parallel.py\", line 759, in dispatch_one_batch\n",
      "    self._dispatch(tasks)\n",
      "  File \"C:\\Users\\zhouj\\Anaconda3\\lib\\site-packages\\joblib\\parallel.py\", line 716, in _dispatch\n",
      "    job = self._backend.apply_async(batch, callback=cb)\n",
      "  File \"C:\\Users\\zhouj\\Anaconda3\\lib\\site-packages\\joblib\\_parallel_backends.py\", line 182, in apply_async\n",
      "    result = ImmediateResult(func)\n",
      "  File \"C:\\Users\\zhouj\\Anaconda3\\lib\\site-packages\\joblib\\_parallel_backends.py\", line 549, in __init__\n",
      "    self.results = batch()\n",
      "  File \"C:\\Users\\zhouj\\Anaconda3\\lib\\site-packages\\joblib\\parallel.py\", line 225, in __call__\n",
      "    for func, args, kwargs in self.items]\n",
      "  File \"C:\\Users\\zhouj\\Anaconda3\\lib\\site-packages\\joblib\\parallel.py\", line 225, in <listcomp>\n",
      "    for func, args, kwargs in self.items]\n",
      "  File \"C:\\Users\\zhouj\\Anaconda3\\lib\\site-packages\\sklearn\\utils\\fixes.py\", line 222, in __call__\n",
      "    return self.function(*args, **kwargs)\n",
      "  File \"C:\\Users\\zhouj\\Anaconda3\\lib\\site-packages\\sklearn\\model_selection\\_validation.py\", line 593, in _fit_and_score\n",
      "    estimator.fit(X_train, y_train, **fit_params)\n",
      "  File \"C:\\Users\\zhouj\\Anaconda3\\lib\\site-packages\\sklearn\\ensemble\\_weight_boosting.py\", line 443, in fit\n",
      "    return super().fit(X, y, sample_weight)\n",
      "  File \"C:\\Users\\zhouj\\Anaconda3\\lib\\site-packages\\sklearn\\ensemble\\_weight_boosting.py\", line 134, in fit\n",
      "    random_state)\n",
      "  File \"C:\\Users\\zhouj\\Anaconda3\\lib\\site-packages\\sklearn\\ensemble\\_weight_boosting.py\", line 503, in _boost\n",
      "    return self._boost_real(iboost, X, y, sample_weight, random_state)\n",
      "  File \"C:\\Users\\zhouj\\Anaconda3\\lib\\site-packages\\sklearn\\ensemble\\_weight_boosting.py\", line 513, in _boost_real\n",
      "    estimator.fit(X, y, sample_weight=sample_weight)\n",
      "  File \"C:\\Users\\zhouj\\Anaconda3\\lib\\site-packages\\sklearn\\tree\\_classes.py\", line 902, in fit\n",
      "    X_idx_sorted=X_idx_sorted)\n",
      "  File \"C:\\Users\\zhouj\\Anaconda3\\lib\\site-packages\\sklearn\\tree\\_classes.py\", line 389, in fit\n",
      "    builder.build(self.tree_, X, y, sample_weight)\n",
      "KeyboardInterrupt\n",
      "\n",
      "During handling of the above exception, another exception occurred:\n",
      "\n",
      "Traceback (most recent call last):\n",
      "  File \"C:\\Users\\zhouj\\Anaconda3\\lib\\site-packages\\IPython\\core\\interactiveshell.py\", line 2040, in showtraceback\n",
      "    stb = value._render_traceback_()\n",
      "AttributeError: 'KeyboardInterrupt' object has no attribute '_render_traceback_'\n",
      "\n",
      "During handling of the above exception, another exception occurred:\n",
      "\n",
      "Traceback (most recent call last):\n",
      "  File \"C:\\Users\\zhouj\\Anaconda3\\lib\\site-packages\\IPython\\core\\ultratb.py\", line 1101, in get_records\n",
      "    return _fixed_getinnerframes(etb, number_of_lines_of_context, tb_offset)\n",
      "  File \"C:\\Users\\zhouj\\Anaconda3\\lib\\site-packages\\IPython\\core\\ultratb.py\", line 319, in wrapped\n",
      "    return f(*args, **kwargs)\n",
      "  File \"C:\\Users\\zhouj\\Anaconda3\\lib\\site-packages\\IPython\\core\\ultratb.py\", line 353, in _fixed_getinnerframes\n",
      "    records = fix_frame_records_filenames(inspect.getinnerframes(etb, context))\n",
      "  File \"C:\\Users\\zhouj\\Anaconda3\\lib\\inspect.py\", line 1502, in getinnerframes\n",
      "    frameinfo = (tb.tb_frame,) + getframeinfo(tb, context)\n",
      "  File \"C:\\Users\\zhouj\\Anaconda3\\lib\\inspect.py\", line 1460, in getframeinfo\n",
      "    filename = getsourcefile(frame) or getfile(frame)\n",
      "  File \"C:\\Users\\zhouj\\Anaconda3\\lib\\inspect.py\", line 693, in getsourcefile\n",
      "    if os.path.exists(filename):\n",
      "  File \"C:\\Users\\zhouj\\Anaconda3\\lib\\genericpath.py\", line 19, in exists\n",
      "    os.stat(path)\n",
      "KeyboardInterrupt\n"
     ]
    },
    {
     "ename": "KeyboardInterrupt",
     "evalue": "",
     "output_type": "error",
     "traceback": [
      "\u001b[1;31m---------------------------------------------------------------------------\u001b[0m"
     ]
    }
   ],
   "source": [
    "cv_scores = []\n",
    "depth_cv = 40\n",
    "lr_cv = 0.1\n",
    "n_estim = np.arange(5, 101, 5)\n",
    "for n in tqdm(n_estim):\n",
    "    base_tree = DecisionTreeClassifier(max_depth = depth_cv,\n",
    "                                       class_weight = \"balanced\")\n",
    "    adb_class = AdaBoostClassifier(base_estimator = base_tree,\n",
    "                                  learning_rate = lr_cv,\n",
    "                                  n_estimators = n)\n",
    "    cv_scores.append(cross_val_score(adb_class,\n",
    "                                    train_x, np.ravel(train_y),\n",
    "                                    scoring = make_scorer(f1_score, average = \"macro\"),\n",
    "                                    cv = 5))"
   ]
  },
  {
   "cell_type": "code",
   "execution_count": 9,
   "metadata": {},
   "outputs": [
    {
     "data": {
      "text/plain": [
       "[0.5761539057069646,\n",
       " 0.586851689620954,\n",
       " 0.5833472001438629,\n",
       " 0.6047234930419567,\n",
       " 0.6022514113319376,\n",
       " 0.6118462365026671,\n",
       " 0.6147053244194916,\n",
       " 0.6149803883037432,\n",
       " 0.6118569213825436,\n",
       " 0.6062202708772024,\n",
       " 0.6092196859987684]"
      ]
     },
     "execution_count": 9,
     "metadata": {},
     "output_type": "execute_result"
    }
   ],
   "source": [
    "[np.mean(x) for x in cv_scores]"
   ]
  },
  {
   "cell_type": "code",
   "execution_count": 10,
   "metadata": {},
   "outputs": [
    {
     "data": {
      "text/plain": [
       "[<matplotlib.lines.Line2D at 0x2218d1c0308>]"
      ]
     },
     "execution_count": 10,
     "metadata": {},
     "output_type": "execute_result"
    },
    {
     "data": {
      "image/png": "[encoded data removed]",
      "text/plain": [
       "<Figure size 432x288 with 1 Axes>"
      ]
     },
     "metadata": {
      "needs_background": "light"
     },
     "output_type": "display_data"
    }
   ],
   "source": [
    "plt.plot(n_estim[1:12], [np.mean(x) for x in cv_scores])"
   ]
  },
  {
   "cell_type": "code",
   "execution_count": 11,
   "metadata": {},
   "outputs": [],
   "source": [
    "n_estim = 45"
   ]
  },
  {
   "cell_type": "code",
   "execution_count": 12,
   "metadata": {},
   "outputs": [],
   "source": [
    "base_tree = DecisionTreeClassifier(max_depth = depth_cv,\n",
    "                                       class_weight = \"balanced\")\n",
    "adb_cv = AdaBoostClassifier(base_estimator = base_tree,\n",
    "                                  learning_rate = lr_cv,\n",
    "                                  n_estimators = n_estim)"
   ]
  },
  {
   "cell_type": "code",
   "execution_count": 14,
   "metadata": {},
   "outputs": [
    {
     "data": {
      "text/plain": [
       "AdaBoostClassifier(base_estimator=DecisionTreeClassifier(class_weight='balanced',\n",
       "                                                         max_depth=40),\n",
       "                   learning_rate=0.1, n_estimators=45)"
      ]
     },
     "execution_count": 14,
     "metadata": {},
     "output_type": "execute_result"
    }
   ],
   "source": [
    "adb_cv.fit(train_x, np.ravel(train_y))"
   ]
  },
  {
   "cell_type": "code",
   "execution_count": 15,
   "metadata": {},
   "outputs": [
    {
     "name": "stdout",
     "output_type": "stream",
     "text": [
      "Accuracy: 1.0\n",
      "Precision: 1.0\n",
      "Recall: 1.0\n",
      "F1: 1.0\n"
     ]
    }
   ],
   "source": [
    "from sklearn.metrics import accuracy_score, precision_score, recall_score\n",
    "train_pred_y = adb_cv.predict(train_x)\n",
    "print(\"Accuracy: \" + str(accuracy_score(train_y, train_pred_y)))\n",
    "print(\"Precision: \" + str(precision_score(train_y, train_pred_y, average = \"macro\")))\n",
    "print(\"Recall: \" + str(recall_score(train_y, train_pred_y, average = \"macro\")))\n",
    "print(\"F1: \" + str(f1_score(train_y, train_pred_y, average = \"macro\")))"
   ]
  },
  {
   "cell_type": "code",
   "execution_count": 16,
   "metadata": {},
   "outputs": [
    {
     "name": "stdout",
     "output_type": "stream",
     "text": [
      "[[1. 0. 0. 0. 0.]\n",
      " [0. 1. 0. 0. 0.]\n",
      " [0. 0. 1. 0. 0.]\n",
      " [0. 0. 0. 1. 0.]\n",
      " [0. 0. 0. 0. 1.]]\n",
      "[[ 3619     0     0     0     0]\n",
      " [    0  1353     0     0     0]\n",
      " [    0     0 17132     0     0]\n",
      " [    0     0     0  5731     0]\n",
      " [    0     0     0     0 10454]]\n"
     ]
    }
   ],
   "source": [
    "from sklearn.metrics import confusion_matrix\n",
    "print(confusion_matrix(train_y, train_pred_y)/np.sum(confusion_matrix(train_y, train_pred_y), axis = 1))\n",
    "print(confusion_matrix(train_y, train_pred_y))"
   ]
  },
  {
   "cell_type": "code",
   "execution_count": 17,
   "metadata": {},
   "outputs": [
    {
     "data": {
      "text/plain": [
       "<matplotlib.colorbar.Colorbar at 0x2218d300548>"
      ]
     },
     "execution_count": 17,
     "metadata": {},
     "output_type": "execute_result"
    },
    {
     "data": {
      "image/png": "[encoded data removed]",
      "text/plain": [
       "<Figure size 432x288 with 2 Axes>"
      ]
     },
     "metadata": {
      "needs_background": "light"
     },
     "output_type": "display_data"
    }
   ],
   "source": [
    "plt.imshow(confusion_matrix(train_y, train_pred_y)/np.sum(confusion_matrix(train_y, train_pred_y), axis = 1), cmap = \"plasma\")\n",
    "plt.colorbar()"
   ]
  },
  {
   "cell_type": "markdown",
   "metadata": {},
   "source": [
    "Prediction"
   ]
  },
  {
   "cell_type": "code",
   "execution_count": 18,
   "metadata": {},
   "outputs": [],
   "source": [
    "test_x = pd.read_csv(\"../DreemSleepStageClassificationChallengeData/dreem-sleep-stages/test_x.csv\",\n",
    "                     index_col = \"id\")"
   ]
  },
  {
   "cell_type": "code",
   "execution_count": 20,
   "metadata": {},
   "outputs": [],
   "source": [
    "test_pred_y = adb_cv.predict(test_x)"
   ]
  },
  {
   "cell_type": "code",
   "execution_count": 21,
   "metadata": {},
   "outputs": [
    {
     "data": {
      "text/html": [
       "<div>\n",
       "<style scoped>\n",
       "    .dataframe tbody tr th:only-of-type {\n",
       "        vertical-align: middle;\n",
       "    }\n",
       "\n",
       "    .dataframe tbody tr th {\n",
       "        vertical-align: top;\n",
       "    }\n",
       "\n",
       "    .dataframe thead th {\n",
       "        text-align: right;\n",
       "    }\n",
       "</style>\n",
       "<table border=\"1\" class=\"dataframe\">\n",
       "  <thead>\n",
       "    <tr style=\"text-align: right;\">\n",
       "      <th></th>\n",
       "      <th>sleep_stage</th>\n",
       "    </tr>\n",
       "    <tr>\n",
       "      <th>id</th>\n",
       "      <th></th>\n",
       "    </tr>\n",
       "  </thead>\n",
       "  <tbody>\n",
       "    <tr>\n",
       "      <td>0</td>\n",
       "      <td>2</td>\n",
       "    </tr>\n",
       "    <tr>\n",
       "      <td>1</td>\n",
       "      <td>2</td>\n",
       "    </tr>\n",
       "    <tr>\n",
       "      <td>2</td>\n",
       "      <td>2</td>\n",
       "    </tr>\n",
       "    <tr>\n",
       "      <td>3</td>\n",
       "      <td>4</td>\n",
       "    </tr>\n",
       "    <tr>\n",
       "      <td>4</td>\n",
       "      <td>4</td>\n",
       "    </tr>\n",
       "    <tr>\n",
       "      <td>...</td>\n",
       "      <td>...</td>\n",
       "    </tr>\n",
       "    <tr>\n",
       "      <td>37434</td>\n",
       "      <td>2</td>\n",
       "    </tr>\n",
       "    <tr>\n",
       "      <td>37435</td>\n",
       "      <td>2</td>\n",
       "    </tr>\n",
       "    <tr>\n",
       "      <td>37436</td>\n",
       "      <td>2</td>\n",
       "    </tr>\n",
       "    <tr>\n",
       "      <td>37437</td>\n",
       "      <td>2</td>\n",
       "    </tr>\n",
       "    <tr>\n",
       "      <td>37438</td>\n",
       "      <td>2</td>\n",
       "    </tr>\n",
       "  </tbody>\n",
       "</table>\n",
       "<p>37439 rows × 1 columns</p>\n",
       "</div>"
      ],
      "text/plain": [
       "       sleep_stage\n",
       "id                \n",
       "0                2\n",
       "1                2\n",
       "2                2\n",
       "3                4\n",
       "4                4\n",
       "...            ...\n",
       "37434            2\n",
       "37435            2\n",
       "37436            2\n",
       "37437            2\n",
       "37438            2\n",
       "\n",
       "[37439 rows x 1 columns]"
      ]
     },
     "execution_count": 21,
     "metadata": {},
     "output_type": "execute_result"
    }
   ],
   "source": [
    "test_pred_y = pd.DataFrame({\"sleep_stage\": test_pred_y})\n",
    "test_pred_y.index.name = \"id\"\n",
    "test_pred_y"
   ]
  },
  {
   "cell_type": "code",
   "execution_count": 22,
   "metadata": {},
   "outputs": [],
   "source": [
    "test_pred_y.to_csv(\"../DreemSleepStageClassificationChallengeData/dreem-sleep-stages/test_pred_y_adb.csv\")"
   ]
  },
  {
   "cell_type": "code",
   "execution_count": null,
   "metadata": {},
   "outputs": [],
   "source": []
  }
 ],
 "metadata": {
  "kernelspec": {
   "display_name": "Python 3",
   "language": "python",
   "name": "python3"
  },
  "language_info": {
   "codemirror_mode": {
    "name": "ipython",
    "version": 3
   },
   "file_extension": ".py",
   "mimetype": "text/x-python",
   "name": "python",
   "nbconvert_exporter": "python",
   "pygments_lexer": "ipython3",
   "version": "3.7.4"
  }
 },
 "nbformat": 4,
 "nbformat_minor": 4
}
